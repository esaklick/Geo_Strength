{
 "cells": [
  {
   "cell_type": "code",
   "execution_count": 83,
   "metadata": {},
   "outputs": [],
   "source": [
    "import pandas as pd\n",
    "import numpy as np\n",
    "import matplotlib.pyplot as plt\n",
    "import plotly.express as px\n",
    "import plotly.graph_objects as go\n",
    "\n",
    "import scipy.stats as st"
   ]
  },
  {
   "cell_type": "markdown",
   "metadata": {},
   "source": [
    "###  Effect of States on BR | Revlimid HCP. Steps:\n",
    "1. Clean Data\n",
    "2. Define what is \"good\" Cost per weighted action\n",
    "3. Display Scatter plot with size and color scale\n",
    "4. Split between \"good performing\" and \"low performing\" states\n",
    "5. Perform t-test between good vs population\n",
    "6. Peform t-test between low vs population"
   ]
  },
  {
   "cell_type": "markdown",
   "metadata": {},
   "source": [
    "### 1. Load and Clean The Data\n",
    "1. Load States data\n",
    "2. Load States lat and long data\n",
    "3. Merge both"
   ]
  },
  {
   "cell_type": "code",
   "execution_count": 66,
   "metadata": {},
   "outputs": [
    {
     "data": {
      "text/html": [
       "<div>\n",
       "<style scoped>\n",
       "    .dataframe tbody tr th:only-of-type {\n",
       "        vertical-align: middle;\n",
       "    }\n",
       "\n",
       "    .dataframe tbody tr th {\n",
       "        vertical-align: top;\n",
       "    }\n",
       "\n",
       "    .dataframe thead th {\n",
       "        text-align: right;\n",
       "    }\n",
       "</style>\n",
       "<table border=\"1\" class=\"dataframe\">\n",
       "  <thead>\n",
       "    <tr style=\"text-align: right;\">\n",
       "      <th></th>\n",
       "      <th>country</th>\n",
       "      <th>continent</th>\n",
       "      <th>year</th>\n",
       "      <th>lifeExp</th>\n",
       "      <th>pop</th>\n",
       "      <th>gdpPercap</th>\n",
       "      <th>iso_alpha</th>\n",
       "      <th>iso_num</th>\n",
       "    </tr>\n",
       "  </thead>\n",
       "  <tbody>\n",
       "    <tr>\n",
       "      <th>11</th>\n",
       "      <td>Afghanistan</td>\n",
       "      <td>Asia</td>\n",
       "      <td>2007</td>\n",
       "      <td>43.828</td>\n",
       "      <td>31889923</td>\n",
       "      <td>974.580338</td>\n",
       "      <td>AFG</td>\n",
       "      <td>4</td>\n",
       "    </tr>\n",
       "    <tr>\n",
       "      <th>23</th>\n",
       "      <td>Albania</td>\n",
       "      <td>Europe</td>\n",
       "      <td>2007</td>\n",
       "      <td>76.423</td>\n",
       "      <td>3600523</td>\n",
       "      <td>5937.029526</td>\n",
       "      <td>ALB</td>\n",
       "      <td>8</td>\n",
       "    </tr>\n",
       "    <tr>\n",
       "      <th>35</th>\n",
       "      <td>Algeria</td>\n",
       "      <td>Africa</td>\n",
       "      <td>2007</td>\n",
       "      <td>72.301</td>\n",
       "      <td>33333216</td>\n",
       "      <td>6223.367465</td>\n",
       "      <td>DZA</td>\n",
       "      <td>12</td>\n",
       "    </tr>\n",
       "    <tr>\n",
       "      <th>47</th>\n",
       "      <td>Angola</td>\n",
       "      <td>Africa</td>\n",
       "      <td>2007</td>\n",
       "      <td>42.731</td>\n",
       "      <td>12420476</td>\n",
       "      <td>4797.231267</td>\n",
       "      <td>AGO</td>\n",
       "      <td>24</td>\n",
       "    </tr>\n",
       "    <tr>\n",
       "      <th>59</th>\n",
       "      <td>Argentina</td>\n",
       "      <td>Americas</td>\n",
       "      <td>2007</td>\n",
       "      <td>75.320</td>\n",
       "      <td>40301927</td>\n",
       "      <td>12779.379640</td>\n",
       "      <td>ARG</td>\n",
       "      <td>32</td>\n",
       "    </tr>\n",
       "  </tbody>\n",
       "</table>\n",
       "</div>"
      ],
      "text/plain": [
       "        country continent  year  lifeExp       pop     gdpPercap iso_alpha  \\\n",
       "11  Afghanistan      Asia  2007   43.828  31889923    974.580338       AFG   \n",
       "23      Albania    Europe  2007   76.423   3600523   5937.029526       ALB   \n",
       "35      Algeria    Africa  2007   72.301  33333216   6223.367465       DZA   \n",
       "47       Angola    Africa  2007   42.731  12420476   4797.231267       AGO   \n",
       "59    Argentina  Americas  2007   75.320  40301927  12779.379640       ARG   \n",
       "\n",
       "    iso_num  \n",
       "11        4  \n",
       "23        8  \n",
       "35       12  \n",
       "47       24  \n",
       "59       32  "
      ]
     },
     "execution_count": 66,
     "metadata": {},
     "output_type": "execute_result"
    }
   ],
   "source": [
    "df = px.data.gapminder().query(\"year == 2007\")\n",
    "fig = px.scatter_geo(df, locations=\"iso_alpha\",\n",
    "                     color=\"continent\", # which column to use to set the color of markers\n",
    "                     hover_name=\"country\", # column added to hover information\n",
    "                     size=\"pop\", # size of markers\n",
    "                     projection=\"natural earth\")\n",
    "fig.show()"
   ]
  },
  {
   "cell_type": "code",
   "execution_count": 115,
   "metadata": {},
   "outputs": [
    {
     "data": {
      "text/html": [
       "<div>\n",
       "<style scoped>\n",
       "    .dataframe tbody tr th:only-of-type {\n",
       "        vertical-align: middle;\n",
       "    }\n",
       "\n",
       "    .dataframe tbody tr th {\n",
       "        vertical-align: top;\n",
       "    }\n",
       "\n",
       "    .dataframe thead th {\n",
       "        text-align: right;\n",
       "    }\n",
       "</style>\n",
       "<table border=\"1\" class=\"dataframe\">\n",
       "  <thead>\n",
       "    <tr style=\"text-align: right;\">\n",
       "      <th></th>\n",
       "      <th>State name</th>\n",
       "      <th>State ID</th>\n",
       "      <th>Cost</th>\n",
       "      <th>Clicks</th>\n",
       "      <th>Weighted actions</th>\n",
       "      <th>Cost/wt action</th>\n",
       "      <th>Impr</th>\n",
       "      <th>CTR</th>\n",
       "      <th>Avg CPC</th>\n",
       "      <th>state</th>\n",
       "      <th>latitude</th>\n",
       "      <th>longitude</th>\n",
       "    </tr>\n",
       "  </thead>\n",
       "  <tbody>\n",
       "    <tr>\n",
       "      <th>0</th>\n",
       "      <td>Florida</td>\n",
       "      <td>21142.0</td>\n",
       "      <td>6267.91</td>\n",
       "      <td>1320</td>\n",
       "      <td>2226</td>\n",
       "      <td>2.815773</td>\n",
       "      <td>13068</td>\n",
       "      <td>0.101010</td>\n",
       "      <td>4.748417</td>\n",
       "      <td>FL</td>\n",
       "      <td>27.664827</td>\n",
       "      <td>-81.515754</td>\n",
       "    </tr>\n",
       "    <tr>\n",
       "      <th>1</th>\n",
       "      <td>Delaware</td>\n",
       "      <td>21141.0</td>\n",
       "      <td>236.64</td>\n",
       "      <td>52</td>\n",
       "      <td>80</td>\n",
       "      <td>2.958000</td>\n",
       "      <td>504</td>\n",
       "      <td>0.103175</td>\n",
       "      <td>4.550769</td>\n",
       "      <td>DE</td>\n",
       "      <td>38.910832</td>\n",
       "      <td>-75.527670</td>\n",
       "    </tr>\n",
       "    <tr>\n",
       "      <th>2</th>\n",
       "      <td>North Carolina</td>\n",
       "      <td>21160.0</td>\n",
       "      <td>2360.70</td>\n",
       "      <td>515</td>\n",
       "      <td>1038</td>\n",
       "      <td>2.274277</td>\n",
       "      <td>5364</td>\n",
       "      <td>0.096010</td>\n",
       "      <td>4.583883</td>\n",
       "      <td>NC</td>\n",
       "      <td>35.759573</td>\n",
       "      <td>-79.019300</td>\n",
       "    </tr>\n",
       "    <tr>\n",
       "      <th>3</th>\n",
       "      <td>Louisiana</td>\n",
       "      <td>21151.0</td>\n",
       "      <td>741.37</td>\n",
       "      <td>151</td>\n",
       "      <td>258</td>\n",
       "      <td>2.873527</td>\n",
       "      <td>1757</td>\n",
       "      <td>0.085942</td>\n",
       "      <td>4.909735</td>\n",
       "      <td>LA</td>\n",
       "      <td>31.244823</td>\n",
       "      <td>-92.145024</td>\n",
       "    </tr>\n",
       "    <tr>\n",
       "      <th>4</th>\n",
       "      <td>Colorado</td>\n",
       "      <td>21138.0</td>\n",
       "      <td>1257.11</td>\n",
       "      <td>271</td>\n",
       "      <td>511</td>\n",
       "      <td>2.460098</td>\n",
       "      <td>2499</td>\n",
       "      <td>0.108443</td>\n",
       "      <td>4.638782</td>\n",
       "      <td>CO</td>\n",
       "      <td>39.550051</td>\n",
       "      <td>-105.782067</td>\n",
       "    </tr>\n",
       "    <tr>\n",
       "      <th>5</th>\n",
       "      <td>Mississippi</td>\n",
       "      <td>21158.0</td>\n",
       "      <td>549.60</td>\n",
       "      <td>118</td>\n",
       "      <td>153</td>\n",
       "      <td>3.592157</td>\n",
       "      <td>1003</td>\n",
       "      <td>0.117647</td>\n",
       "      <td>4.657627</td>\n",
       "      <td>MS</td>\n",
       "      <td>32.354668</td>\n",
       "      <td>-89.398528</td>\n",
       "    </tr>\n",
       "    <tr>\n",
       "      <th>6</th>\n",
       "      <td>Rhode Island</td>\n",
       "      <td>21172.0</td>\n",
       "      <td>229.10</td>\n",
       "      <td>54</td>\n",
       "      <td>100</td>\n",
       "      <td>2.291000</td>\n",
       "      <td>557</td>\n",
       "      <td>0.096948</td>\n",
       "      <td>4.242593</td>\n",
       "      <td>RI</td>\n",
       "      <td>41.580095</td>\n",
       "      <td>-71.477429</td>\n",
       "    </tr>\n",
       "    <tr>\n",
       "      <th>7</th>\n",
       "      <td>Montana</td>\n",
       "      <td>21159.0</td>\n",
       "      <td>212.53</td>\n",
       "      <td>49</td>\n",
       "      <td>89</td>\n",
       "      <td>2.387978</td>\n",
       "      <td>385</td>\n",
       "      <td>0.127273</td>\n",
       "      <td>4.337347</td>\n",
       "      <td>MT</td>\n",
       "      <td>46.879682</td>\n",
       "      <td>-110.362566</td>\n",
       "    </tr>\n",
       "    <tr>\n",
       "      <th>8</th>\n",
       "      <td>New Mexico</td>\n",
       "      <td>21165.0</td>\n",
       "      <td>349.09</td>\n",
       "      <td>72</td>\n",
       "      <td>129</td>\n",
       "      <td>2.706124</td>\n",
       "      <td>759</td>\n",
       "      <td>0.094862</td>\n",
       "      <td>4.848472</td>\n",
       "      <td>NM</td>\n",
       "      <td>34.972730</td>\n",
       "      <td>-105.032363</td>\n",
       "    </tr>\n",
       "    <tr>\n",
       "      <th>9</th>\n",
       "      <td>Missouri</td>\n",
       "      <td>21157.0</td>\n",
       "      <td>1653.72</td>\n",
       "      <td>349</td>\n",
       "      <td>614</td>\n",
       "      <td>2.693355</td>\n",
       "      <td>3163</td>\n",
       "      <td>0.110338</td>\n",
       "      <td>4.738453</td>\n",
       "      <td>MO</td>\n",
       "      <td>37.964253</td>\n",
       "      <td>-91.831833</td>\n",
       "    </tr>\n",
       "    <tr>\n",
       "      <th>10</th>\n",
       "      <td>South Carolina</td>\n",
       "      <td>21173.0</td>\n",
       "      <td>1187.18</td>\n",
       "      <td>248</td>\n",
       "      <td>391</td>\n",
       "      <td>3.036266</td>\n",
       "      <td>2217</td>\n",
       "      <td>0.111863</td>\n",
       "      <td>4.787016</td>\n",
       "      <td>SC</td>\n",
       "      <td>33.836081</td>\n",
       "      <td>-81.163725</td>\n",
       "    </tr>\n",
       "    <tr>\n",
       "      <th>11</th>\n",
       "      <td>North Dakota</td>\n",
       "      <td>21161.0</td>\n",
       "      <td>106.90</td>\n",
       "      <td>25</td>\n",
       "      <td>24</td>\n",
       "      <td>4.454167</td>\n",
       "      <td>278</td>\n",
       "      <td>0.089928</td>\n",
       "      <td>4.276000</td>\n",
       "      <td>ND</td>\n",
       "      <td>47.551493</td>\n",
       "      <td>-101.002012</td>\n",
       "    </tr>\n",
       "    <tr>\n",
       "      <th>12</th>\n",
       "      <td>Utah</td>\n",
       "      <td>21177.0</td>\n",
       "      <td>460.34</td>\n",
       "      <td>101</td>\n",
       "      <td>181</td>\n",
       "      <td>2.543315</td>\n",
       "      <td>1029</td>\n",
       "      <td>0.098154</td>\n",
       "      <td>4.557822</td>\n",
       "      <td>UT</td>\n",
       "      <td>39.320980</td>\n",
       "      <td>-111.093731</td>\n",
       "    </tr>\n",
       "    <tr>\n",
       "      <th>13</th>\n",
       "      <td>New Hampshire</td>\n",
       "      <td>21163.0</td>\n",
       "      <td>398.07</td>\n",
       "      <td>83</td>\n",
       "      <td>154</td>\n",
       "      <td>2.584870</td>\n",
       "      <td>882</td>\n",
       "      <td>0.094104</td>\n",
       "      <td>4.796024</td>\n",
       "      <td>NH</td>\n",
       "      <td>43.193852</td>\n",
       "      <td>-71.572395</td>\n",
       "    </tr>\n",
       "    <tr>\n",
       "      <th>14</th>\n",
       "      <td>District of Columbia</td>\n",
       "      <td>21140.0</td>\n",
       "      <td>380.66</td>\n",
       "      <td>85</td>\n",
       "      <td>217</td>\n",
       "      <td>1.754194</td>\n",
       "      <td>887</td>\n",
       "      <td>0.095829</td>\n",
       "      <td>4.478353</td>\n",
       "      <td>DC</td>\n",
       "      <td>38.905985</td>\n",
       "      <td>-77.033418</td>\n",
       "    </tr>\n",
       "    <tr>\n",
       "      <th>15</th>\n",
       "      <td>Hawaii</td>\n",
       "      <td>21144.0</td>\n",
       "      <td>240.33</td>\n",
       "      <td>54</td>\n",
       "      <td>124</td>\n",
       "      <td>1.938145</td>\n",
       "      <td>436</td>\n",
       "      <td>0.123853</td>\n",
       "      <td>4.450556</td>\n",
       "      <td>HI</td>\n",
       "      <td>19.898682</td>\n",
       "      <td>-155.665857</td>\n",
       "    </tr>\n",
       "    <tr>\n",
       "      <th>16</th>\n",
       "      <td>Massachusetts</td>\n",
       "      <td>21152.0</td>\n",
       "      <td>2777.29</td>\n",
       "      <td>604</td>\n",
       "      <td>1120</td>\n",
       "      <td>2.479723</td>\n",
       "      <td>6139</td>\n",
       "      <td>0.098387</td>\n",
       "      <td>4.598162</td>\n",
       "      <td>MA</td>\n",
       "      <td>42.407211</td>\n",
       "      <td>-71.382437</td>\n",
       "    </tr>\n",
       "    <tr>\n",
       "      <th>17</th>\n",
       "      <td>Oregon</td>\n",
       "      <td>21170.0</td>\n",
       "      <td>790.08</td>\n",
       "      <td>165</td>\n",
       "      <td>289</td>\n",
       "      <td>2.733841</td>\n",
       "      <td>1915</td>\n",
       "      <td>0.086162</td>\n",
       "      <td>4.788364</td>\n",
       "      <td>OR</td>\n",
       "      <td>43.804133</td>\n",
       "      <td>-120.554201</td>\n",
       "    </tr>\n",
       "    <tr>\n",
       "      <th>18</th>\n",
       "      <td>Alabama</td>\n",
       "      <td>21133.0</td>\n",
       "      <td>1051.49</td>\n",
       "      <td>220</td>\n",
       "      <td>365</td>\n",
       "      <td>2.880795</td>\n",
       "      <td>2147</td>\n",
       "      <td>0.102469</td>\n",
       "      <td>4.779500</td>\n",
       "      <td>AL</td>\n",
       "      <td>32.318231</td>\n",
       "      <td>-86.902298</td>\n",
       "    </tr>\n",
       "    <tr>\n",
       "      <th>19</th>\n",
       "      <td>Texas</td>\n",
       "      <td>21176.0</td>\n",
       "      <td>5211.20</td>\n",
       "      <td>1095</td>\n",
       "      <td>1916</td>\n",
       "      <td>2.719833</td>\n",
       "      <td>11556</td>\n",
       "      <td>0.094756</td>\n",
       "      <td>4.759087</td>\n",
       "      <td>TX</td>\n",
       "      <td>31.968599</td>\n",
       "      <td>-99.901813</td>\n",
       "    </tr>\n",
       "    <tr>\n",
       "      <th>20</th>\n",
       "      <td>Indiana</td>\n",
       "      <td>21148.0</td>\n",
       "      <td>1360.06</td>\n",
       "      <td>276</td>\n",
       "      <td>468</td>\n",
       "      <td>2.906111</td>\n",
       "      <td>2586</td>\n",
       "      <td>0.106729</td>\n",
       "      <td>4.927754</td>\n",
       "      <td>IN</td>\n",
       "      <td>40.551217</td>\n",
       "      <td>-85.602364</td>\n",
       "    </tr>\n",
       "    <tr>\n",
       "      <th>21</th>\n",
       "      <td>Nevada</td>\n",
       "      <td>21166.0</td>\n",
       "      <td>486.84</td>\n",
       "      <td>98</td>\n",
       "      <td>146</td>\n",
       "      <td>3.334521</td>\n",
       "      <td>1266</td>\n",
       "      <td>0.077409</td>\n",
       "      <td>4.967755</td>\n",
       "      <td>NV</td>\n",
       "      <td>38.802610</td>\n",
       "      <td>-116.419389</td>\n",
       "    </tr>\n",
       "    <tr>\n",
       "      <th>22</th>\n",
       "      <td>South Dakota</td>\n",
       "      <td>21174.0</td>\n",
       "      <td>286.60</td>\n",
       "      <td>59</td>\n",
       "      <td>108</td>\n",
       "      <td>2.653704</td>\n",
       "      <td>368</td>\n",
       "      <td>0.160326</td>\n",
       "      <td>4.857627</td>\n",
       "      <td>SD</td>\n",
       "      <td>43.969515</td>\n",
       "      <td>-99.901813</td>\n",
       "    </tr>\n",
       "    <tr>\n",
       "      <th>23</th>\n",
       "      <td>Arkansas</td>\n",
       "      <td>21135.0</td>\n",
       "      <td>525.56</td>\n",
       "      <td>118</td>\n",
       "      <td>210</td>\n",
       "      <td>2.502667</td>\n",
       "      <td>1029</td>\n",
       "      <td>0.114674</td>\n",
       "      <td>4.453898</td>\n",
       "      <td>AR</td>\n",
       "      <td>35.201050</td>\n",
       "      <td>-91.831833</td>\n",
       "    </tr>\n",
       "    <tr>\n",
       "      <th>24</th>\n",
       "      <td>Kentucky</td>\n",
       "      <td>21150.0</td>\n",
       "      <td>845.59</td>\n",
       "      <td>185</td>\n",
       "      <td>347</td>\n",
       "      <td>2.436859</td>\n",
       "      <td>1829</td>\n",
       "      <td>0.101148</td>\n",
       "      <td>4.570757</td>\n",
       "      <td>KY</td>\n",
       "      <td>37.839333</td>\n",
       "      <td>-84.270018</td>\n",
       "    </tr>\n",
       "    <tr>\n",
       "      <th>25</th>\n",
       "      <td>Pennsylvania</td>\n",
       "      <td>21171.0</td>\n",
       "      <td>4584.71</td>\n",
       "      <td>975</td>\n",
       "      <td>1800</td>\n",
       "      <td>2.547061</td>\n",
       "      <td>8810</td>\n",
       "      <td>0.110670</td>\n",
       "      <td>4.702267</td>\n",
       "      <td>PA</td>\n",
       "      <td>41.203322</td>\n",
       "      <td>-77.194525</td>\n",
       "    </tr>\n",
       "    <tr>\n",
       "      <th>26</th>\n",
       "      <td>West Virginia</td>\n",
       "      <td>21183.0</td>\n",
       "      <td>494.36</td>\n",
       "      <td>102</td>\n",
       "      <td>182</td>\n",
       "      <td>2.716264</td>\n",
       "      <td>898</td>\n",
       "      <td>0.113586</td>\n",
       "      <td>4.846667</td>\n",
       "      <td>WV</td>\n",
       "      <td>38.597626</td>\n",
       "      <td>-80.454903</td>\n",
       "    </tr>\n",
       "    <tr>\n",
       "      <th>27</th>\n",
       "      <td>Tennessee</td>\n",
       "      <td>21175.0</td>\n",
       "      <td>1468.85</td>\n",
       "      <td>314</td>\n",
       "      <td>536</td>\n",
       "      <td>2.740392</td>\n",
       "      <td>3064</td>\n",
       "      <td>0.102480</td>\n",
       "      <td>4.677866</td>\n",
       "      <td>TN</td>\n",
       "      <td>35.517491</td>\n",
       "      <td>-86.580447</td>\n",
       "    </tr>\n",
       "    <tr>\n",
       "      <th>28</th>\n",
       "      <td>Wyoming</td>\n",
       "      <td>21184.0</td>\n",
       "      <td>54.17</td>\n",
       "      <td>13</td>\n",
       "      <td>22</td>\n",
       "      <td>2.462273</td>\n",
       "      <td>138</td>\n",
       "      <td>0.094203</td>\n",
       "      <td>4.166923</td>\n",
       "      <td>WY</td>\n",
       "      <td>43.075968</td>\n",
       "      <td>-107.290284</td>\n",
       "    </tr>\n",
       "    <tr>\n",
       "      <th>29</th>\n",
       "      <td>Michigan</td>\n",
       "      <td>21155.0</td>\n",
       "      <td>2351.93</td>\n",
       "      <td>498</td>\n",
       "      <td>823</td>\n",
       "      <td>2.857752</td>\n",
       "      <td>4672</td>\n",
       "      <td>0.106592</td>\n",
       "      <td>4.722751</td>\n",
       "      <td>MI</td>\n",
       "      <td>44.314844</td>\n",
       "      <td>-85.602364</td>\n",
       "    </tr>\n",
       "    <tr>\n",
       "      <th>30</th>\n",
       "      <td>Ohio</td>\n",
       "      <td>21168.0</td>\n",
       "      <td>2573.59</td>\n",
       "      <td>543</td>\n",
       "      <td>858</td>\n",
       "      <td>2.999522</td>\n",
       "      <td>5514</td>\n",
       "      <td>0.098477</td>\n",
       "      <td>4.739576</td>\n",
       "      <td>OH</td>\n",
       "      <td>40.417287</td>\n",
       "      <td>-82.907123</td>\n",
       "    </tr>\n",
       "    <tr>\n",
       "      <th>31</th>\n",
       "      <td>Maine</td>\n",
       "      <td>21154.0</td>\n",
       "      <td>485.30</td>\n",
       "      <td>98</td>\n",
       "      <td>166</td>\n",
       "      <td>2.923494</td>\n",
       "      <td>837</td>\n",
       "      <td>0.117085</td>\n",
       "      <td>4.952041</td>\n",
       "      <td>ME</td>\n",
       "      <td>45.253783</td>\n",
       "      <td>-69.445469</td>\n",
       "    </tr>\n",
       "    <tr>\n",
       "      <th>32</th>\n",
       "      <td>Illinois</td>\n",
       "      <td>21147.0</td>\n",
       "      <td>3369.19</td>\n",
       "      <td>707</td>\n",
       "      <td>1395</td>\n",
       "      <td>2.415190</td>\n",
       "      <td>7127</td>\n",
       "      <td>0.099200</td>\n",
       "      <td>4.765474</td>\n",
       "      <td>IL</td>\n",
       "      <td>40.633125</td>\n",
       "      <td>-89.398528</td>\n",
       "    </tr>\n",
       "    <tr>\n",
       "      <th>33</th>\n",
       "      <td>Vermont</td>\n",
       "      <td>21179.0</td>\n",
       "      <td>131.25</td>\n",
       "      <td>29</td>\n",
       "      <td>44</td>\n",
       "      <td>2.982955</td>\n",
       "      <td>347</td>\n",
       "      <td>0.083573</td>\n",
       "      <td>4.525862</td>\n",
       "      <td>VT</td>\n",
       "      <td>44.558803</td>\n",
       "      <td>-72.577841</td>\n",
       "    </tr>\n",
       "    <tr>\n",
       "      <th>34</th>\n",
       "      <td>Iowa</td>\n",
       "      <td>21145.0</td>\n",
       "      <td>529.13</td>\n",
       "      <td>117</td>\n",
       "      <td>212</td>\n",
       "      <td>2.495896</td>\n",
       "      <td>1204</td>\n",
       "      <td>0.097176</td>\n",
       "      <td>4.522479</td>\n",
       "      <td>IA</td>\n",
       "      <td>41.878003</td>\n",
       "      <td>-93.097702</td>\n",
       "    </tr>\n",
       "    <tr>\n",
       "      <th>35</th>\n",
       "      <td>Virginia</td>\n",
       "      <td>21178.0</td>\n",
       "      <td>2341.00</td>\n",
       "      <td>504</td>\n",
       "      <td>887</td>\n",
       "      <td>2.639233</td>\n",
       "      <td>4713</td>\n",
       "      <td>0.106938</td>\n",
       "      <td>4.644841</td>\n",
       "      <td>VA</td>\n",
       "      <td>37.431573</td>\n",
       "      <td>-78.656894</td>\n",
       "    </tr>\n",
       "    <tr>\n",
       "      <th>36</th>\n",
       "      <td>Arizona</td>\n",
       "      <td>21136.0</td>\n",
       "      <td>1731.72</td>\n",
       "      <td>375</td>\n",
       "      <td>694</td>\n",
       "      <td>2.495274</td>\n",
       "      <td>3978</td>\n",
       "      <td>0.094268</td>\n",
       "      <td>4.617920</td>\n",
       "      <td>AZ</td>\n",
       "      <td>34.048928</td>\n",
       "      <td>-111.093731</td>\n",
       "    </tr>\n",
       "    <tr>\n",
       "      <th>37</th>\n",
       "      <td>Georgia</td>\n",
       "      <td>21143.0</td>\n",
       "      <td>2075.46</td>\n",
       "      <td>443</td>\n",
       "      <td>839</td>\n",
       "      <td>2.473731</td>\n",
       "      <td>4900</td>\n",
       "      <td>0.090408</td>\n",
       "      <td>4.685011</td>\n",
       "      <td>GA</td>\n",
       "      <td>32.157435</td>\n",
       "      <td>-82.907123</td>\n",
       "    </tr>\n",
       "    <tr>\n",
       "      <th>38</th>\n",
       "      <td>Oklahoma</td>\n",
       "      <td>21169.0</td>\n",
       "      <td>635.57</td>\n",
       "      <td>129</td>\n",
       "      <td>172</td>\n",
       "      <td>3.695174</td>\n",
       "      <td>1101</td>\n",
       "      <td>0.117166</td>\n",
       "      <td>4.926899</td>\n",
       "      <td>OK</td>\n",
       "      <td>35.007752</td>\n",
       "      <td>-97.092877</td>\n",
       "    </tr>\n",
       "    <tr>\n",
       "      <th>39</th>\n",
       "      <td>Washington</td>\n",
       "      <td>21180.0</td>\n",
       "      <td>1297.50</td>\n",
       "      <td>294</td>\n",
       "      <td>532</td>\n",
       "      <td>2.438910</td>\n",
       "      <td>3319</td>\n",
       "      <td>0.088581</td>\n",
       "      <td>4.413265</td>\n",
       "      <td>WA</td>\n",
       "      <td>47.751074</td>\n",
       "      <td>-120.740139</td>\n",
       "    </tr>\n",
       "    <tr>\n",
       "      <th>40</th>\n",
       "      <td>New York</td>\n",
       "      <td>21167.0</td>\n",
       "      <td>7399.75</td>\n",
       "      <td>1576</td>\n",
       "      <td>3339</td>\n",
       "      <td>2.216158</td>\n",
       "      <td>13945</td>\n",
       "      <td>0.113015</td>\n",
       "      <td>4.695273</td>\n",
       "      <td>NY</td>\n",
       "      <td>43.299428</td>\n",
       "      <td>-74.217933</td>\n",
       "    </tr>\n",
       "    <tr>\n",
       "      <th>41</th>\n",
       "      <td>Connecticut</td>\n",
       "      <td>21139.0</td>\n",
       "      <td>1223.05</td>\n",
       "      <td>255</td>\n",
       "      <td>479</td>\n",
       "      <td>2.553340</td>\n",
       "      <td>2469</td>\n",
       "      <td>0.103281</td>\n",
       "      <td>4.796275</td>\n",
       "      <td>CT</td>\n",
       "      <td>41.603221</td>\n",
       "      <td>-73.087749</td>\n",
       "    </tr>\n",
       "    <tr>\n",
       "      <th>42</th>\n",
       "      <td>Alaska</td>\n",
       "      <td>21132.0</td>\n",
       "      <td>61.08</td>\n",
       "      <td>12</td>\n",
       "      <td>18</td>\n",
       "      <td>3.393333</td>\n",
       "      <td>148</td>\n",
       "      <td>0.081081</td>\n",
       "      <td>5.090000</td>\n",
       "      <td>AK</td>\n",
       "      <td>63.588753</td>\n",
       "      <td>-154.493062</td>\n",
       "    </tr>\n",
       "    <tr>\n",
       "      <th>43</th>\n",
       "      <td>Maryland</td>\n",
       "      <td>21153.0</td>\n",
       "      <td>1915.96</td>\n",
       "      <td>411</td>\n",
       "      <td>680</td>\n",
       "      <td>2.817588</td>\n",
       "      <td>3666</td>\n",
       "      <td>0.112111</td>\n",
       "      <td>4.661703</td>\n",
       "      <td>MD</td>\n",
       "      <td>39.045755</td>\n",
       "      <td>-76.641271</td>\n",
       "    </tr>\n",
       "    <tr>\n",
       "      <th>44</th>\n",
       "      <td>Wisconsin</td>\n",
       "      <td>21182.0</td>\n",
       "      <td>994.49</td>\n",
       "      <td>221</td>\n",
       "      <td>345</td>\n",
       "      <td>2.882580</td>\n",
       "      <td>2517</td>\n",
       "      <td>0.087803</td>\n",
       "      <td>4.499955</td>\n",
       "      <td>WI</td>\n",
       "      <td>43.784440</td>\n",
       "      <td>-88.787868</td>\n",
       "    </tr>\n",
       "    <tr>\n",
       "      <th>45</th>\n",
       "      <td>Kansas</td>\n",
       "      <td>21149.0</td>\n",
       "      <td>510.82</td>\n",
       "      <td>106</td>\n",
       "      <td>195</td>\n",
       "      <td>2.619590</td>\n",
       "      <td>1203</td>\n",
       "      <td>0.088113</td>\n",
       "      <td>4.819057</td>\n",
       "      <td>KS</td>\n",
       "      <td>39.011902</td>\n",
       "      <td>-98.484246</td>\n",
       "    </tr>\n",
       "    <tr>\n",
       "      <th>46</th>\n",
       "      <td>Nebraska</td>\n",
       "      <td>21162.0</td>\n",
       "      <td>637.94</td>\n",
       "      <td>127</td>\n",
       "      <td>221</td>\n",
       "      <td>2.886606</td>\n",
       "      <td>1010</td>\n",
       "      <td>0.125743</td>\n",
       "      <td>5.023150</td>\n",
       "      <td>NE</td>\n",
       "      <td>41.492537</td>\n",
       "      <td>-99.901813</td>\n",
       "    </tr>\n",
       "    <tr>\n",
       "      <th>47</th>\n",
       "      <td>California</td>\n",
       "      <td>21137.0</td>\n",
       "      <td>8694.78</td>\n",
       "      <td>1848</td>\n",
       "      <td>3275</td>\n",
       "      <td>2.654895</td>\n",
       "      <td>19103</td>\n",
       "      <td>0.096739</td>\n",
       "      <td>4.704968</td>\n",
       "      <td>CA</td>\n",
       "      <td>36.778261</td>\n",
       "      <td>-119.417932</td>\n",
       "    </tr>\n",
       "    <tr>\n",
       "      <th>48</th>\n",
       "      <td>Idaho</td>\n",
       "      <td>21146.0</td>\n",
       "      <td>367.17</td>\n",
       "      <td>75</td>\n",
       "      <td>143</td>\n",
       "      <td>2.567622</td>\n",
       "      <td>556</td>\n",
       "      <td>0.134892</td>\n",
       "      <td>4.895600</td>\n",
       "      <td>ID</td>\n",
       "      <td>44.068202</td>\n",
       "      <td>-114.742041</td>\n",
       "    </tr>\n",
       "    <tr>\n",
       "      <th>49</th>\n",
       "      <td>New Jersey</td>\n",
       "      <td>21164.0</td>\n",
       "      <td>6116.81</td>\n",
       "      <td>1311</td>\n",
       "      <td>2898</td>\n",
       "      <td>2.110700</td>\n",
       "      <td>9348</td>\n",
       "      <td>0.140244</td>\n",
       "      <td>4.665759</td>\n",
       "      <td>NJ</td>\n",
       "      <td>40.058324</td>\n",
       "      <td>-74.405661</td>\n",
       "    </tr>\n",
       "    <tr>\n",
       "      <th>50</th>\n",
       "      <td>Minnesota</td>\n",
       "      <td>21156.0</td>\n",
       "      <td>1498.49</td>\n",
       "      <td>307</td>\n",
       "      <td>526</td>\n",
       "      <td>2.848840</td>\n",
       "      <td>3352</td>\n",
       "      <td>0.091587</td>\n",
       "      <td>4.881075</td>\n",
       "      <td>MN</td>\n",
       "      <td>46.729553</td>\n",
       "      <td>-94.685900</td>\n",
       "    </tr>\n",
       "  </tbody>\n",
       "</table>\n",
       "</div>"
      ],
      "text/plain": [
       "              State name  State ID     Cost  Clicks  Weighted actions  \\\n",
       "0                Florida   21142.0  6267.91    1320              2226   \n",
       "1               Delaware   21141.0   236.64      52                80   \n",
       "2         North Carolina   21160.0  2360.70     515              1038   \n",
       "3              Louisiana   21151.0   741.37     151               258   \n",
       "4               Colorado   21138.0  1257.11     271               511   \n",
       "5            Mississippi   21158.0   549.60     118               153   \n",
       "6           Rhode Island   21172.0   229.10      54               100   \n",
       "7                Montana   21159.0   212.53      49                89   \n",
       "8             New Mexico   21165.0   349.09      72               129   \n",
       "9               Missouri   21157.0  1653.72     349               614   \n",
       "10        South Carolina   21173.0  1187.18     248               391   \n",
       "11          North Dakota   21161.0   106.90      25                24   \n",
       "12                  Utah   21177.0   460.34     101               181   \n",
       "13         New Hampshire   21163.0   398.07      83               154   \n",
       "14  District of Columbia   21140.0   380.66      85               217   \n",
       "15                Hawaii   21144.0   240.33      54               124   \n",
       "16         Massachusetts   21152.0  2777.29     604              1120   \n",
       "17                Oregon   21170.0   790.08     165               289   \n",
       "18               Alabama   21133.0  1051.49     220               365   \n",
       "19                 Texas   21176.0  5211.20    1095              1916   \n",
       "20               Indiana   21148.0  1360.06     276               468   \n",
       "21                Nevada   21166.0   486.84      98               146   \n",
       "22          South Dakota   21174.0   286.60      59               108   \n",
       "23              Arkansas   21135.0   525.56     118               210   \n",
       "24              Kentucky   21150.0   845.59     185               347   \n",
       "25          Pennsylvania   21171.0  4584.71     975              1800   \n",
       "26         West Virginia   21183.0   494.36     102               182   \n",
       "27             Tennessee   21175.0  1468.85     314               536   \n",
       "28               Wyoming   21184.0    54.17      13                22   \n",
       "29              Michigan   21155.0  2351.93     498               823   \n",
       "30                  Ohio   21168.0  2573.59     543               858   \n",
       "31                 Maine   21154.0   485.30      98               166   \n",
       "32              Illinois   21147.0  3369.19     707              1395   \n",
       "33               Vermont   21179.0   131.25      29                44   \n",
       "34                  Iowa   21145.0   529.13     117               212   \n",
       "35              Virginia   21178.0  2341.00     504               887   \n",
       "36               Arizona   21136.0  1731.72     375               694   \n",
       "37               Georgia   21143.0  2075.46     443               839   \n",
       "38              Oklahoma   21169.0   635.57     129               172   \n",
       "39            Washington   21180.0  1297.50     294               532   \n",
       "40              New York   21167.0  7399.75    1576              3339   \n",
       "41           Connecticut   21139.0  1223.05     255               479   \n",
       "42                Alaska   21132.0    61.08      12                18   \n",
       "43              Maryland   21153.0  1915.96     411               680   \n",
       "44             Wisconsin   21182.0   994.49     221               345   \n",
       "45                Kansas   21149.0   510.82     106               195   \n",
       "46              Nebraska   21162.0   637.94     127               221   \n",
       "47            California   21137.0  8694.78    1848              3275   \n",
       "48                 Idaho   21146.0   367.17      75               143   \n",
       "49            New Jersey   21164.0  6116.81    1311              2898   \n",
       "50             Minnesota   21156.0  1498.49     307               526   \n",
       "\n",
       "    Cost/wt action   Impr       CTR   Avg CPC state   latitude   longitude  \n",
       "0         2.815773  13068  0.101010  4.748417    FL  27.664827  -81.515754  \n",
       "1         2.958000    504  0.103175  4.550769    DE  38.910832  -75.527670  \n",
       "2         2.274277   5364  0.096010  4.583883    NC  35.759573  -79.019300  \n",
       "3         2.873527   1757  0.085942  4.909735    LA  31.244823  -92.145024  \n",
       "4         2.460098   2499  0.108443  4.638782    CO  39.550051 -105.782067  \n",
       "5         3.592157   1003  0.117647  4.657627    MS  32.354668  -89.398528  \n",
       "6         2.291000    557  0.096948  4.242593    RI  41.580095  -71.477429  \n",
       "7         2.387978    385  0.127273  4.337347    MT  46.879682 -110.362566  \n",
       "8         2.706124    759  0.094862  4.848472    NM  34.972730 -105.032363  \n",
       "9         2.693355   3163  0.110338  4.738453    MO  37.964253  -91.831833  \n",
       "10        3.036266   2217  0.111863  4.787016    SC  33.836081  -81.163725  \n",
       "11        4.454167    278  0.089928  4.276000    ND  47.551493 -101.002012  \n",
       "12        2.543315   1029  0.098154  4.557822    UT  39.320980 -111.093731  \n",
       "13        2.584870    882  0.094104  4.796024    NH  43.193852  -71.572395  \n",
       "14        1.754194    887  0.095829  4.478353    DC  38.905985  -77.033418  \n",
       "15        1.938145    436  0.123853  4.450556    HI  19.898682 -155.665857  \n",
       "16        2.479723   6139  0.098387  4.598162    MA  42.407211  -71.382437  \n",
       "17        2.733841   1915  0.086162  4.788364    OR  43.804133 -120.554201  \n",
       "18        2.880795   2147  0.102469  4.779500    AL  32.318231  -86.902298  \n",
       "19        2.719833  11556  0.094756  4.759087    TX  31.968599  -99.901813  \n",
       "20        2.906111   2586  0.106729  4.927754    IN  40.551217  -85.602364  \n",
       "21        3.334521   1266  0.077409  4.967755    NV  38.802610 -116.419389  \n",
       "22        2.653704    368  0.160326  4.857627    SD  43.969515  -99.901813  \n",
       "23        2.502667   1029  0.114674  4.453898    AR  35.201050  -91.831833  \n",
       "24        2.436859   1829  0.101148  4.570757    KY  37.839333  -84.270018  \n",
       "25        2.547061   8810  0.110670  4.702267    PA  41.203322  -77.194525  \n",
       "26        2.716264    898  0.113586  4.846667    WV  38.597626  -80.454903  \n",
       "27        2.740392   3064  0.102480  4.677866    TN  35.517491  -86.580447  \n",
       "28        2.462273    138  0.094203  4.166923    WY  43.075968 -107.290284  \n",
       "29        2.857752   4672  0.106592  4.722751    MI  44.314844  -85.602364  \n",
       "30        2.999522   5514  0.098477  4.739576    OH  40.417287  -82.907123  \n",
       "31        2.923494    837  0.117085  4.952041    ME  45.253783  -69.445469  \n",
       "32        2.415190   7127  0.099200  4.765474    IL  40.633125  -89.398528  \n",
       "33        2.982955    347  0.083573  4.525862    VT  44.558803  -72.577841  \n",
       "34        2.495896   1204  0.097176  4.522479    IA  41.878003  -93.097702  \n",
       "35        2.639233   4713  0.106938  4.644841    VA  37.431573  -78.656894  \n",
       "36        2.495274   3978  0.094268  4.617920    AZ  34.048928 -111.093731  \n",
       "37        2.473731   4900  0.090408  4.685011    GA  32.157435  -82.907123  \n",
       "38        3.695174   1101  0.117166  4.926899    OK  35.007752  -97.092877  \n",
       "39        2.438910   3319  0.088581  4.413265    WA  47.751074 -120.740139  \n",
       "40        2.216158  13945  0.113015  4.695273    NY  43.299428  -74.217933  \n",
       "41        2.553340   2469  0.103281  4.796275    CT  41.603221  -73.087749  \n",
       "42        3.393333    148  0.081081  5.090000    AK  63.588753 -154.493062  \n",
       "43        2.817588   3666  0.112111  4.661703    MD  39.045755  -76.641271  \n",
       "44        2.882580   2517  0.087803  4.499955    WI  43.784440  -88.787868  \n",
       "45        2.619590   1203  0.088113  4.819057    KS  39.011902  -98.484246  \n",
       "46        2.886606   1010  0.125743  5.023150    NE  41.492537  -99.901813  \n",
       "47        2.654895  19103  0.096739  4.704968    CA  36.778261 -119.417932  \n",
       "48        2.567622    556  0.134892  4.895600    ID  44.068202 -114.742041  \n",
       "49        2.110700   9348  0.140244  4.665759    NJ  40.058324  -74.405661  \n",
       "50        2.848840   3352  0.091587  4.881075    MN  46.729553  -94.685900  "
      ]
     },
     "execution_count": 115,
     "metadata": {},
     "output_type": "execute_result"
    }
   ],
   "source": [
    "# load States Data\n",
    "dma_path = f\"Resources/BR _ Revlimid - HCP - States.xlsx\"\n",
    "dma_df = pd.read_excel(dma_path)\n",
    "\n",
    "dma_df[\"State name\"].fillna(\"None\", inplace=True)\n",
    "dma_df.drop(columns=[\"Row Type\",\"Avg pos\"], inplace=True)\n",
    "dma_df.sort_values(\"Cost\", ascending=False)\n",
    "\n",
    "dma_df= dma_df.dropna(0, how=\"any\")\n",
    "\n",
    "# Load States lat long\n",
    "st_ll_path = f\"Resources/States Lat Long.csv\"\n",
    "st_ll = pd.read_csv(st_ll_path)\n",
    "type(dma_df[\"State name\"])\n",
    "\n",
    "\n",
    "df_joined= dma_df.merge(st_ll, how=\"left\", on=\"State name\")\n",
    "df_joined"
   ]
  },
  {
   "cell_type": "code",
   "execution_count": 114,
   "metadata": {},
   "outputs": [
    {
     "ename": "KeyError",
     "evalue": "51",
     "output_type": "error",
     "traceback": [
      "\u001b[1;31m---------------------------------------------------------------------------\u001b[0m",
      "\u001b[1;31mKeyError\u001b[0m                                  Traceback (most recent call last)",
      "\u001b[1;32m<ipython-input-114-300f77c0f934>\u001b[0m in \u001b[0;36m<module>\u001b[1;34m\u001b[0m\n\u001b[1;32m----> 1\u001b[1;33m \u001b[0mdf_joined\u001b[0m\u001b[1;33m[\u001b[0m\u001b[1;34m\"State name\"\u001b[0m\u001b[1;33m]\u001b[0m\u001b[1;33m[\u001b[0m\u001b[1;36m51\u001b[0m\u001b[1;33m]\u001b[0m\u001b[1;33m\u001b[0m\u001b[1;33m\u001b[0m\u001b[0m\n\u001b[0m",
      "\u001b[1;32m~\\Anaconda3\\lib\\site-packages\\pandas\\core\\series.py\u001b[0m in \u001b[0;36m__getitem__\u001b[1;34m(self, key)\u001b[0m\n\u001b[0;32m    869\u001b[0m         \u001b[0mkey\u001b[0m \u001b[1;33m=\u001b[0m \u001b[0mcom\u001b[0m\u001b[1;33m.\u001b[0m\u001b[0mapply_if_callable\u001b[0m\u001b[1;33m(\u001b[0m\u001b[0mkey\u001b[0m\u001b[1;33m,\u001b[0m \u001b[0mself\u001b[0m\u001b[1;33m)\u001b[0m\u001b[1;33m\u001b[0m\u001b[1;33m\u001b[0m\u001b[0m\n\u001b[0;32m    870\u001b[0m         \u001b[1;32mtry\u001b[0m\u001b[1;33m:\u001b[0m\u001b[1;33m\u001b[0m\u001b[1;33m\u001b[0m\u001b[0m\n\u001b[1;32m--> 871\u001b[1;33m             \u001b[0mresult\u001b[0m \u001b[1;33m=\u001b[0m \u001b[0mself\u001b[0m\u001b[1;33m.\u001b[0m\u001b[0mindex\u001b[0m\u001b[1;33m.\u001b[0m\u001b[0mget_value\u001b[0m\u001b[1;33m(\u001b[0m\u001b[0mself\u001b[0m\u001b[1;33m,\u001b[0m \u001b[0mkey\u001b[0m\u001b[1;33m)\u001b[0m\u001b[1;33m\u001b[0m\u001b[1;33m\u001b[0m\u001b[0m\n\u001b[0m\u001b[0;32m    872\u001b[0m \u001b[1;33m\u001b[0m\u001b[0m\n\u001b[0;32m    873\u001b[0m             \u001b[1;32mif\u001b[0m \u001b[1;32mnot\u001b[0m \u001b[0mis_scalar\u001b[0m\u001b[1;33m(\u001b[0m\u001b[0mresult\u001b[0m\u001b[1;33m)\u001b[0m\u001b[1;33m:\u001b[0m\u001b[1;33m\u001b[0m\u001b[1;33m\u001b[0m\u001b[0m\n",
      "\u001b[1;32m~\\Anaconda3\\lib\\site-packages\\pandas\\core\\indexes\\base.py\u001b[0m in \u001b[0;36mget_value\u001b[1;34m(self, series, key)\u001b[0m\n\u001b[0;32m   4403\u001b[0m         \u001b[0mk\u001b[0m \u001b[1;33m=\u001b[0m \u001b[0mself\u001b[0m\u001b[1;33m.\u001b[0m\u001b[0m_convert_scalar_indexer\u001b[0m\u001b[1;33m(\u001b[0m\u001b[0mk\u001b[0m\u001b[1;33m,\u001b[0m \u001b[0mkind\u001b[0m\u001b[1;33m=\u001b[0m\u001b[1;34m\"getitem\"\u001b[0m\u001b[1;33m)\u001b[0m\u001b[1;33m\u001b[0m\u001b[1;33m\u001b[0m\u001b[0m\n\u001b[0;32m   4404\u001b[0m         \u001b[1;32mtry\u001b[0m\u001b[1;33m:\u001b[0m\u001b[1;33m\u001b[0m\u001b[1;33m\u001b[0m\u001b[0m\n\u001b[1;32m-> 4405\u001b[1;33m             \u001b[1;32mreturn\u001b[0m \u001b[0mself\u001b[0m\u001b[1;33m.\u001b[0m\u001b[0m_engine\u001b[0m\u001b[1;33m.\u001b[0m\u001b[0mget_value\u001b[0m\u001b[1;33m(\u001b[0m\u001b[0ms\u001b[0m\u001b[1;33m,\u001b[0m \u001b[0mk\u001b[0m\u001b[1;33m,\u001b[0m \u001b[0mtz\u001b[0m\u001b[1;33m=\u001b[0m\u001b[0mgetattr\u001b[0m\u001b[1;33m(\u001b[0m\u001b[0mseries\u001b[0m\u001b[1;33m.\u001b[0m\u001b[0mdtype\u001b[0m\u001b[1;33m,\u001b[0m \u001b[1;34m\"tz\"\u001b[0m\u001b[1;33m,\u001b[0m \u001b[1;32mNone\u001b[0m\u001b[1;33m)\u001b[0m\u001b[1;33m)\u001b[0m\u001b[1;33m\u001b[0m\u001b[1;33m\u001b[0m\u001b[0m\n\u001b[0m\u001b[0;32m   4406\u001b[0m         \u001b[1;32mexcept\u001b[0m \u001b[0mKeyError\u001b[0m \u001b[1;32mas\u001b[0m \u001b[0me1\u001b[0m\u001b[1;33m:\u001b[0m\u001b[1;33m\u001b[0m\u001b[1;33m\u001b[0m\u001b[0m\n\u001b[0;32m   4407\u001b[0m             \u001b[1;32mif\u001b[0m \u001b[0mlen\u001b[0m\u001b[1;33m(\u001b[0m\u001b[0mself\u001b[0m\u001b[1;33m)\u001b[0m \u001b[1;33m>\u001b[0m \u001b[1;36m0\u001b[0m \u001b[1;32mand\u001b[0m \u001b[1;33m(\u001b[0m\u001b[0mself\u001b[0m\u001b[1;33m.\u001b[0m\u001b[0mholds_integer\u001b[0m\u001b[1;33m(\u001b[0m\u001b[1;33m)\u001b[0m \u001b[1;32mor\u001b[0m \u001b[0mself\u001b[0m\u001b[1;33m.\u001b[0m\u001b[0mis_boolean\u001b[0m\u001b[1;33m(\u001b[0m\u001b[1;33m)\u001b[0m\u001b[1;33m)\u001b[0m\u001b[1;33m:\u001b[0m\u001b[1;33m\u001b[0m\u001b[1;33m\u001b[0m\u001b[0m\n",
      "\u001b[1;32mpandas\\_libs\\index.pyx\u001b[0m in \u001b[0;36mpandas._libs.index.IndexEngine.get_value\u001b[1;34m()\u001b[0m\n",
      "\u001b[1;32mpandas\\_libs\\index.pyx\u001b[0m in \u001b[0;36mpandas._libs.index.IndexEngine.get_value\u001b[1;34m()\u001b[0m\n",
      "\u001b[1;32mpandas\\_libs\\index.pyx\u001b[0m in \u001b[0;36mpandas._libs.index.IndexEngine.get_loc\u001b[1;34m()\u001b[0m\n",
      "\u001b[1;32mpandas\\_libs\\hashtable_class_helper.pxi\u001b[0m in \u001b[0;36mpandas._libs.hashtable.Int64HashTable.get_item\u001b[1;34m()\u001b[0m\n",
      "\u001b[1;32mpandas\\_libs\\hashtable_class_helper.pxi\u001b[0m in \u001b[0;36mpandas._libs.hashtable.Int64HashTable.get_item\u001b[1;34m()\u001b[0m\n",
      "\u001b[1;31mKeyError\u001b[0m: 51"
     ]
    }
   ],
   "source": [
    "df_joined[\"State name\"][51]"
   ]
  },
  {
   "cell_type": "markdown",
   "metadata": {},
   "source": [
    "### 2. Finding \"good\" states.\n",
    "Defined as above average CWTA.\n",
    "\n",
    "Create scatter plot on map. Make it interactive\n",
    "\n"
   ]
  },
  {
   "cell_type": "markdown",
   "metadata": {},
   "source": [
    "#### Find how far each states deviate from stdev"
   ]
  },
  {
   "cell_type": "code",
   "execution_count": 22,
   "metadata": {
    "scrolled": true
   },
   "outputs": [
    {
     "name": "stdout",
     "output_type": "stream",
     "text": [
      "CWTA Mean in each states: $2.71\n",
      "CWTA Median in each states: $2.65\n",
      "CWTA stdev in each states: $0.43\n",
      "Average Costs in each states: $1637.45\n",
      "Median Costs in each states: $845.59\n"
     ]
    }
   ],
   "source": [
    "# get the means\n",
    "dma_CWTA_mean = dma_df[\"Cost/wt action\"].mean()\n",
    "print(\"CWTA Mean in each states: $\"+str(round(dma_CWTA_mean, 2)))\n",
    "\n",
    "# get the median\n",
    "dma_CWTA_median = dma_df[\"Cost/wt action\"].median()\n",
    "print(\"CWTA Median in each states: $\"+str(round(dma_CWTA_median, 2)))\n",
    "\n",
    "# get the std dev of CWTA\n",
    "dma_CWTA_stdev = np.std(dma_df[\"Cost/wt action\"])\n",
    "print(\"CWTA stdev in each states: $\"+str(round(dma_CWTA_stdev, 2)))\n",
    "\n",
    "dma_mean_cost = dma_df[\"Cost\"].mean()\n",
    "print(\"Average Costs in each states: $\"+ str(round(dma_mean_cost, 2) ))\n",
    "\n",
    "dma_median_cost = dma_df[\"Cost\"].median()\n",
    "print(\"Median Costs in each states: $\"+ str(round(dma_median_cost, 2) ))\n"
   ]
  },
  {
   "cell_type": "markdown",
   "metadata": {},
   "source": [
    "#### Picture 1: Scatter Plot Cost and CWTA"
   ]
  },
  {
   "cell_type": "code",
   "execution_count": 118,
   "metadata": {},
   "outputs": [
    {
     "data": {
      "application/vnd.plotly.v1+json": {
       "config": {
        "plotlyServerURL": "https://plot.ly"
       },
       "data": [
        {
         "hovertemplate": "State name=%{x}<br>Cost/wt action=%{marker.color}<br>Cost=%{marker.size}<extra></extra>",
         "legendgroup": "",
         "marker": {
          "color": [
           2.815773,
           2.958,
           2.274277,
           2.873527,
           2.460098,
           3.592157,
           2.291,
           2.387978,
           2.706124,
           2.693355,
           3.036266,
           4.454167,
           2.543315,
           2.58487,
           1.754194,
           1.938145,
           2.479723,
           2.733841,
           2.880795,
           2.719833,
           2.906111,
           3.334521,
           2.653704,
           2.502667,
           2.436859,
           2.547061,
           2.716264,
           2.740392,
           2.462273,
           2.857752,
           2.999522,
           2.923494,
           2.41519,
           2.982955,
           2.495896,
           2.639233,
           2.495274,
           2.473731,
           3.695174,
           2.43891,
           2.216158,
           2.55334,
           3.393333,
           2.817588,
           2.88258,
           2.61959,
           2.886606,
           2.654895,
           2.567622,
           2.1107,
           2.84884
          ],
          "coloraxis": "coloraxis",
          "size": [
           6267.91,
           236.64,
           2360.7,
           741.37,
           1257.11,
           549.6,
           229.1,
           212.53,
           349.09,
           1653.72,
           1187.18,
           106.9,
           460.34,
           398.07,
           380.66,
           240.33,
           2777.29,
           790.08,
           1051.49,
           5211.2,
           1360.06,
           486.84,
           286.6,
           525.56,
           845.59,
           4584.71,
           494.36,
           1468.85,
           54.17,
           2351.93,
           2573.59,
           485.3,
           3369.19,
           131.25,
           529.13,
           2341,
           1731.72,
           2075.46,
           635.57,
           1297.5,
           7399.75,
           1223.05,
           61.08,
           1915.96,
           994.49,
           510.82,
           637.94,
           8694.78,
           367.17,
           6116.81,
           1498.49
          ],
          "sizemode": "area",
          "sizeref": 21.73695,
          "symbol": "circle"
         },
         "mode": "markers",
         "name": "",
         "orientation": "v",
         "showlegend": false,
         "type": "scatter",
         "x": [
          "Florida",
          "Delaware",
          "North Carolina",
          "Louisiana",
          "Colorado",
          "Mississippi",
          "Rhode Island",
          "Montana",
          "New Mexico",
          "Missouri",
          "South Carolina",
          "North Dakota",
          "Utah",
          "New Hampshire",
          "District of Columbia",
          "Hawaii",
          "Massachusetts",
          "Oregon",
          "Alabama",
          "Texas",
          "Indiana",
          "Nevada",
          "South Dakota",
          "Arkansas",
          "Kentucky",
          "Pennsylvania",
          "West Virginia",
          "Tennessee",
          "Wyoming",
          "Michigan",
          "Ohio",
          "Maine",
          "Illinois",
          "Vermont",
          "Iowa",
          "Virginia",
          "Arizona",
          "Georgia",
          "Oklahoma",
          "Washington",
          "New York",
          "Connecticut",
          "Alaska",
          "Maryland",
          "Wisconsin",
          "Kansas",
          "Nebraska",
          "California",
          "Idaho",
          "New Jersey",
          "Minnesota"
         ],
         "xaxis": "x",
         "y": [
          2.815773,
          2.958,
          2.274277,
          2.873527,
          2.460098,
          3.592157,
          2.291,
          2.387978,
          2.706124,
          2.693355,
          3.036266,
          4.454167,
          2.543315,
          2.58487,
          1.754194,
          1.938145,
          2.479723,
          2.733841,
          2.880795,
          2.719833,
          2.906111,
          3.334521,
          2.653704,
          2.502667,
          2.436859,
          2.547061,
          2.716264,
          2.740392,
          2.462273,
          2.857752,
          2.999522,
          2.923494,
          2.41519,
          2.982955,
          2.495896,
          2.639233,
          2.495274,
          2.473731,
          3.695174,
          2.43891,
          2.216158,
          2.55334,
          3.393333,
          2.817588,
          2.88258,
          2.61959,
          2.886606,
          2.654895,
          2.567622,
          2.1107,
          2.84884
         ],
         "yaxis": "y"
        }
       ],
       "layout": {
        "coloraxis": {
         "colorbar": {
          "title": {
           "text": "Cost/wt action"
          }
         },
         "colorscale": [
          [
           0,
           "#0d0887"
          ],
          [
           0.1111111111111111,
           "#46039f"
          ],
          [
           0.2222222222222222,
           "#7201a8"
          ],
          [
           0.3333333333333333,
           "#9c179e"
          ],
          [
           0.4444444444444444,
           "#bd3786"
          ],
          [
           0.5555555555555556,
           "#d8576b"
          ],
          [
           0.6666666666666666,
           "#ed7953"
          ],
          [
           0.7777777777777778,
           "#fb9f3a"
          ],
          [
           0.8888888888888888,
           "#fdca26"
          ],
          [
           1,
           "#f0f921"
          ]
         ]
        },
        "legend": {
         "itemsizing": "constant",
         "tracegroupgap": 0
        },
        "margin": {
         "t": 60
        },
        "shapes": [
         {
          "line": {
           "color": "RoyalBlue",
           "width": 2
          },
          "type": "line",
          "x0": "Florida",
          "x1": "Minnesota",
          "y0": 2.714621039215687,
          "y1": 2.714621039215687
         }
        ],
        "template": {
         "data": {
          "bar": [
           {
            "error_x": {
             "color": "#2a3f5f"
            },
            "error_y": {
             "color": "#2a3f5f"
            },
            "marker": {
             "line": {
              "color": "#E5ECF6",
              "width": 0.5
             }
            },
            "type": "bar"
           }
          ],
          "barpolar": [
           {
            "marker": {
             "line": {
              "color": "#E5ECF6",
              "width": 0.5
             }
            },
            "type": "barpolar"
           }
          ],
          "carpet": [
           {
            "aaxis": {
             "endlinecolor": "#2a3f5f",
             "gridcolor": "white",
             "linecolor": "white",
             "minorgridcolor": "white",
             "startlinecolor": "#2a3f5f"
            },
            "baxis": {
             "endlinecolor": "#2a3f5f",
             "gridcolor": "white",
             "linecolor": "white",
             "minorgridcolor": "white",
             "startlinecolor": "#2a3f5f"
            },
            "type": "carpet"
           }
          ],
          "choropleth": [
           {
            "colorbar": {
             "outlinewidth": 0,
             "ticks": ""
            },
            "type": "choropleth"
           }
          ],
          "contour": [
           {
            "colorbar": {
             "outlinewidth": 0,
             "ticks": ""
            },
            "colorscale": [
             [
              0,
              "#0d0887"
             ],
             [
              0.1111111111111111,
              "#46039f"
             ],
             [
              0.2222222222222222,
              "#7201a8"
             ],
             [
              0.3333333333333333,
              "#9c179e"
             ],
             [
              0.4444444444444444,
              "#bd3786"
             ],
             [
              0.5555555555555556,
              "#d8576b"
             ],
             [
              0.6666666666666666,
              "#ed7953"
             ],
             [
              0.7777777777777778,
              "#fb9f3a"
             ],
             [
              0.8888888888888888,
              "#fdca26"
             ],
             [
              1,
              "#f0f921"
             ]
            ],
            "type": "contour"
           }
          ],
          "contourcarpet": [
           {
            "colorbar": {
             "outlinewidth": 0,
             "ticks": ""
            },
            "type": "contourcarpet"
           }
          ],
          "heatmap": [
           {
            "colorbar": {
             "outlinewidth": 0,
             "ticks": ""
            },
            "colorscale": [
             [
              0,
              "#0d0887"
             ],
             [
              0.1111111111111111,
              "#46039f"
             ],
             [
              0.2222222222222222,
              "#7201a8"
             ],
             [
              0.3333333333333333,
              "#9c179e"
             ],
             [
              0.4444444444444444,
              "#bd3786"
             ],
             [
              0.5555555555555556,
              "#d8576b"
             ],
             [
              0.6666666666666666,
              "#ed7953"
             ],
             [
              0.7777777777777778,
              "#fb9f3a"
             ],
             [
              0.8888888888888888,
              "#fdca26"
             ],
             [
              1,
              "#f0f921"
             ]
            ],
            "type": "heatmap"
           }
          ],
          "heatmapgl": [
           {
            "colorbar": {
             "outlinewidth": 0,
             "ticks": ""
            },
            "colorscale": [
             [
              0,
              "#0d0887"
             ],
             [
              0.1111111111111111,
              "#46039f"
             ],
             [
              0.2222222222222222,
              "#7201a8"
             ],
             [
              0.3333333333333333,
              "#9c179e"
             ],
             [
              0.4444444444444444,
              "#bd3786"
             ],
             [
              0.5555555555555556,
              "#d8576b"
             ],
             [
              0.6666666666666666,
              "#ed7953"
             ],
             [
              0.7777777777777778,
              "#fb9f3a"
             ],
             [
              0.8888888888888888,
              "#fdca26"
             ],
             [
              1,
              "#f0f921"
             ]
            ],
            "type": "heatmapgl"
           }
          ],
          "histogram": [
           {
            "marker": {
             "colorbar": {
              "outlinewidth": 0,
              "ticks": ""
             }
            },
            "type": "histogram"
           }
          ],
          "histogram2d": [
           {
            "colorbar": {
             "outlinewidth": 0,
             "ticks": ""
            },
            "colorscale": [
             [
              0,
              "#0d0887"
             ],
             [
              0.1111111111111111,
              "#46039f"
             ],
             [
              0.2222222222222222,
              "#7201a8"
             ],
             [
              0.3333333333333333,
              "#9c179e"
             ],
             [
              0.4444444444444444,
              "#bd3786"
             ],
             [
              0.5555555555555556,
              "#d8576b"
             ],
             [
              0.6666666666666666,
              "#ed7953"
             ],
             [
              0.7777777777777778,
              "#fb9f3a"
             ],
             [
              0.8888888888888888,
              "#fdca26"
             ],
             [
              1,
              "#f0f921"
             ]
            ],
            "type": "histogram2d"
           }
          ],
          "histogram2dcontour": [
           {
            "colorbar": {
             "outlinewidth": 0,
             "ticks": ""
            },
            "colorscale": [
             [
              0,
              "#0d0887"
             ],
             [
              0.1111111111111111,
              "#46039f"
             ],
             [
              0.2222222222222222,
              "#7201a8"
             ],
             [
              0.3333333333333333,
              "#9c179e"
             ],
             [
              0.4444444444444444,
              "#bd3786"
             ],
             [
              0.5555555555555556,
              "#d8576b"
             ],
             [
              0.6666666666666666,
              "#ed7953"
             ],
             [
              0.7777777777777778,
              "#fb9f3a"
             ],
             [
              0.8888888888888888,
              "#fdca26"
             ],
             [
              1,
              "#f0f921"
             ]
            ],
            "type": "histogram2dcontour"
           }
          ],
          "mesh3d": [
           {
            "colorbar": {
             "outlinewidth": 0,
             "ticks": ""
            },
            "type": "mesh3d"
           }
          ],
          "parcoords": [
           {
            "line": {
             "colorbar": {
              "outlinewidth": 0,
              "ticks": ""
             }
            },
            "type": "parcoords"
           }
          ],
          "pie": [
           {
            "automargin": true,
            "type": "pie"
           }
          ],
          "scatter": [
           {
            "marker": {
             "colorbar": {
              "outlinewidth": 0,
              "ticks": ""
             }
            },
            "type": "scatter"
           }
          ],
          "scatter3d": [
           {
            "line": {
             "colorbar": {
              "outlinewidth": 0,
              "ticks": ""
             }
            },
            "marker": {
             "colorbar": {
              "outlinewidth": 0,
              "ticks": ""
             }
            },
            "type": "scatter3d"
           }
          ],
          "scattercarpet": [
           {
            "marker": {
             "colorbar": {
              "outlinewidth": 0,
              "ticks": ""
             }
            },
            "type": "scattercarpet"
           }
          ],
          "scattergeo": [
           {
            "marker": {
             "colorbar": {
              "outlinewidth": 0,
              "ticks": ""
             }
            },
            "type": "scattergeo"
           }
          ],
          "scattergl": [
           {
            "marker": {
             "colorbar": {
              "outlinewidth": 0,
              "ticks": ""
             }
            },
            "type": "scattergl"
           }
          ],
          "scattermapbox": [
           {
            "marker": {
             "colorbar": {
              "outlinewidth": 0,
              "ticks": ""
             }
            },
            "type": "scattermapbox"
           }
          ],
          "scatterpolar": [
           {
            "marker": {
             "colorbar": {
              "outlinewidth": 0,
              "ticks": ""
             }
            },
            "type": "scatterpolar"
           }
          ],
          "scatterpolargl": [
           {
            "marker": {
             "colorbar": {
              "outlinewidth": 0,
              "ticks": ""
             }
            },
            "type": "scatterpolargl"
           }
          ],
          "scatterternary": [
           {
            "marker": {
             "colorbar": {
              "outlinewidth": 0,
              "ticks": ""
             }
            },
            "type": "scatterternary"
           }
          ],
          "surface": [
           {
            "colorbar": {
             "outlinewidth": 0,
             "ticks": ""
            },
            "colorscale": [
             [
              0,
              "#0d0887"
             ],
             [
              0.1111111111111111,
              "#46039f"
             ],
             [
              0.2222222222222222,
              "#7201a8"
             ],
             [
              0.3333333333333333,
              "#9c179e"
             ],
             [
              0.4444444444444444,
              "#bd3786"
             ],
             [
              0.5555555555555556,
              "#d8576b"
             ],
             [
              0.6666666666666666,
              "#ed7953"
             ],
             [
              0.7777777777777778,
              "#fb9f3a"
             ],
             [
              0.8888888888888888,
              "#fdca26"
             ],
             [
              1,
              "#f0f921"
             ]
            ],
            "type": "surface"
           }
          ],
          "table": [
           {
            "cells": {
             "fill": {
              "color": "#EBF0F8"
             },
             "line": {
              "color": "white"
             }
            },
            "header": {
             "fill": {
              "color": "#C8D4E3"
             },
             "line": {
              "color": "white"
             }
            },
            "type": "table"
           }
          ]
         },
         "layout": {
          "annotationdefaults": {
           "arrowcolor": "#2a3f5f",
           "arrowhead": 0,
           "arrowwidth": 1
          },
          "coloraxis": {
           "colorbar": {
            "outlinewidth": 0,
            "ticks": ""
           }
          },
          "colorscale": {
           "diverging": [
            [
             0,
             "#8e0152"
            ],
            [
             0.1,
             "#c51b7d"
            ],
            [
             0.2,
             "#de77ae"
            ],
            [
             0.3,
             "#f1b6da"
            ],
            [
             0.4,
             "#fde0ef"
            ],
            [
             0.5,
             "#f7f7f7"
            ],
            [
             0.6,
             "#e6f5d0"
            ],
            [
             0.7,
             "#b8e186"
            ],
            [
             0.8,
             "#7fbc41"
            ],
            [
             0.9,
             "#4d9221"
            ],
            [
             1,
             "#276419"
            ]
           ],
           "sequential": [
            [
             0,
             "#0d0887"
            ],
            [
             0.1111111111111111,
             "#46039f"
            ],
            [
             0.2222222222222222,
             "#7201a8"
            ],
            [
             0.3333333333333333,
             "#9c179e"
            ],
            [
             0.4444444444444444,
             "#bd3786"
            ],
            [
             0.5555555555555556,
             "#d8576b"
            ],
            [
             0.6666666666666666,
             "#ed7953"
            ],
            [
             0.7777777777777778,
             "#fb9f3a"
            ],
            [
             0.8888888888888888,
             "#fdca26"
            ],
            [
             1,
             "#f0f921"
            ]
           ],
           "sequentialminus": [
            [
             0,
             "#0d0887"
            ],
            [
             0.1111111111111111,
             "#46039f"
            ],
            [
             0.2222222222222222,
             "#7201a8"
            ],
            [
             0.3333333333333333,
             "#9c179e"
            ],
            [
             0.4444444444444444,
             "#bd3786"
            ],
            [
             0.5555555555555556,
             "#d8576b"
            ],
            [
             0.6666666666666666,
             "#ed7953"
            ],
            [
             0.7777777777777778,
             "#fb9f3a"
            ],
            [
             0.8888888888888888,
             "#fdca26"
            ],
            [
             1,
             "#f0f921"
            ]
           ]
          },
          "colorway": [
           "#636efa",
           "#EF553B",
           "#00cc96",
           "#ab63fa",
           "#FFA15A",
           "#19d3f3",
           "#FF6692",
           "#B6E880",
           "#FF97FF",
           "#FECB52"
          ],
          "font": {
           "color": "#2a3f5f"
          },
          "geo": {
           "bgcolor": "white",
           "lakecolor": "white",
           "landcolor": "#E5ECF6",
           "showlakes": true,
           "showland": true,
           "subunitcolor": "white"
          },
          "hoverlabel": {
           "align": "left"
          },
          "hovermode": "closest",
          "mapbox": {
           "style": "light"
          },
          "paper_bgcolor": "white",
          "plot_bgcolor": "#E5ECF6",
          "polar": {
           "angularaxis": {
            "gridcolor": "white",
            "linecolor": "white",
            "ticks": ""
           },
           "bgcolor": "#E5ECF6",
           "radialaxis": {
            "gridcolor": "white",
            "linecolor": "white",
            "ticks": ""
           }
          },
          "scene": {
           "xaxis": {
            "backgroundcolor": "#E5ECF6",
            "gridcolor": "white",
            "gridwidth": 2,
            "linecolor": "white",
            "showbackground": true,
            "ticks": "",
            "zerolinecolor": "white"
           },
           "yaxis": {
            "backgroundcolor": "#E5ECF6",
            "gridcolor": "white",
            "gridwidth": 2,
            "linecolor": "white",
            "showbackground": true,
            "ticks": "",
            "zerolinecolor": "white"
           },
           "zaxis": {
            "backgroundcolor": "#E5ECF6",
            "gridcolor": "white",
            "gridwidth": 2,
            "linecolor": "white",
            "showbackground": true,
            "ticks": "",
            "zerolinecolor": "white"
           }
          },
          "shapedefaults": {
           "line": {
            "color": "#2a3f5f"
           }
          },
          "ternary": {
           "aaxis": {
            "gridcolor": "white",
            "linecolor": "white",
            "ticks": ""
           },
           "baxis": {
            "gridcolor": "white",
            "linecolor": "white",
            "ticks": ""
           },
           "bgcolor": "#E5ECF6",
           "caxis": {
            "gridcolor": "white",
            "linecolor": "white",
            "ticks": ""
           }
          },
          "title": {
           "x": 0.05
          },
          "xaxis": {
           "automargin": true,
           "gridcolor": "white",
           "linecolor": "white",
           "ticks": "",
           "title": {
            "standoff": 15
           },
           "zerolinecolor": "white",
           "zerolinewidth": 2
          },
          "yaxis": {
           "automargin": true,
           "gridcolor": "white",
           "linecolor": "white",
           "ticks": "",
           "title": {
            "standoff": 15
           },
           "zerolinecolor": "white",
           "zerolinewidth": 2
          }
         }
        },
        "title": {
         "text": "Plots of States vs CWTA"
        },
        "xaxis": {
         "anchor": "y",
         "domain": [
          0,
          1
         ],
         "title": {
          "text": "State name"
         }
        },
        "yaxis": {
         "anchor": "x",
         "domain": [
          0,
          1
         ],
         "title": {
          "text": "Cost/wt action"
         }
        }
       }
      },
      "text/html": [
       "<div>\n",
       "        \n",
       "        \n",
       "            <div id=\"37fe7e79-1c1c-49e6-926c-10342af81a8e\" class=\"plotly-graph-div\" style=\"height:525px; width:100%;\"></div>\n",
       "            <script type=\"text/javascript\">\n",
       "                require([\"plotly\"], function(Plotly) {\n",
       "                    window.PLOTLYENV=window.PLOTLYENV || {};\n",
       "                    \n",
       "                if (document.getElementById(\"37fe7e79-1c1c-49e6-926c-10342af81a8e\")) {\n",
       "                    Plotly.newPlot(\n",
       "                        '37fe7e79-1c1c-49e6-926c-10342af81a8e',\n",
       "                        [{\"hovertemplate\": \"State name=%{x}<br>Cost/wt action=%{marker.color}<br>Cost=%{marker.size}<extra></extra>\", \"legendgroup\": \"\", \"marker\": {\"color\": [2.815773, 2.958, 2.274277, 2.873527, 2.460098, 3.592157, 2.291, 2.387978, 2.706124, 2.693355, 3.036266, 4.454167, 2.543315, 2.58487, 1.754194, 1.938145, 2.479723, 2.733841, 2.880795, 2.719833, 2.906111, 3.334521, 2.653704, 2.502667, 2.436859, 2.547061, 2.716264, 2.740392, 2.462273, 2.857752, 2.999522, 2.923494, 2.41519, 2.982955, 2.495896, 2.639233, 2.495274, 2.473731, 3.695174, 2.43891, 2.216158, 2.55334, 3.393333, 2.817588, 2.88258, 2.61959, 2.886606, 2.654895, 2.567622, 2.1107, 2.84884], \"coloraxis\": \"coloraxis\", \"size\": [6267.91, 236.64, 2360.7, 741.37, 1257.11, 549.6, 229.1, 212.53, 349.09, 1653.72, 1187.18, 106.9, 460.34, 398.07, 380.66, 240.33, 2777.29, 790.08, 1051.49, 5211.2, 1360.06, 486.84, 286.6, 525.56, 845.59, 4584.71, 494.36, 1468.85, 54.17, 2351.93, 2573.59, 485.3, 3369.19, 131.25, 529.13, 2341.0, 1731.72, 2075.46, 635.57, 1297.5, 7399.75, 1223.05, 61.08, 1915.96, 994.49, 510.82, 637.94, 8694.78, 367.17, 6116.81, 1498.49], \"sizemode\": \"area\", \"sizeref\": 21.73695, \"symbol\": \"circle\"}, \"mode\": \"markers\", \"name\": \"\", \"orientation\": \"v\", \"showlegend\": false, \"type\": \"scatter\", \"x\": [\"Florida\", \"Delaware\", \"North Carolina\", \"Louisiana\", \"Colorado\", \"Mississippi\", \"Rhode Island\", \"Montana\", \"New Mexico\", \"Missouri\", \"South Carolina\", \"North Dakota\", \"Utah\", \"New Hampshire\", \"District of Columbia\", \"Hawaii\", \"Massachusetts\", \"Oregon\", \"Alabama\", \"Texas\", \"Indiana\", \"Nevada\", \"South Dakota\", \"Arkansas\", \"Kentucky\", \"Pennsylvania\", \"West Virginia\", \"Tennessee\", \"Wyoming\", \"Michigan\", \"Ohio\", \"Maine\", \"Illinois\", \"Vermont\", \"Iowa\", \"Virginia\", \"Arizona\", \"Georgia\", \"Oklahoma\", \"Washington\", \"New York\", \"Connecticut\", \"Alaska\", \"Maryland\", \"Wisconsin\", \"Kansas\", \"Nebraska\", \"California\", \"Idaho\", \"New Jersey\", \"Minnesota\"], \"xaxis\": \"x\", \"y\": [2.815773, 2.958, 2.274277, 2.873527, 2.460098, 3.592157, 2.291, 2.387978, 2.706124, 2.693355, 3.036266, 4.454167, 2.543315, 2.58487, 1.754194, 1.938145, 2.479723, 2.733841, 2.880795, 2.719833, 2.906111, 3.334521, 2.653704, 2.502667, 2.436859, 2.547061, 2.716264, 2.740392, 2.462273, 2.857752, 2.999522, 2.923494, 2.41519, 2.982955, 2.495896, 2.639233, 2.495274, 2.473731, 3.695174, 2.43891, 2.216158, 2.55334, 3.393333, 2.817588, 2.88258, 2.61959, 2.886606, 2.654895, 2.567622, 2.1107, 2.84884], \"yaxis\": \"y\"}],\n",
       "                        {\"coloraxis\": {\"colorbar\": {\"title\": {\"text\": \"Cost/wt action\"}}, \"colorscale\": [[0.0, \"#0d0887\"], [0.1111111111111111, \"#46039f\"], [0.2222222222222222, \"#7201a8\"], [0.3333333333333333, \"#9c179e\"], [0.4444444444444444, \"#bd3786\"], [0.5555555555555556, \"#d8576b\"], [0.6666666666666666, \"#ed7953\"], [0.7777777777777778, \"#fb9f3a\"], [0.8888888888888888, \"#fdca26\"], [1.0, \"#f0f921\"]]}, \"legend\": {\"itemsizing\": \"constant\", \"tracegroupgap\": 0}, \"margin\": {\"t\": 60}, \"shapes\": [{\"line\": {\"color\": \"RoyalBlue\", \"width\": 2}, \"type\": \"line\", \"x0\": \"Florida\", \"x1\": \"Minnesota\", \"y0\": 2.714621039215687, \"y1\": 2.714621039215687}], \"template\": {\"data\": {\"bar\": [{\"error_x\": {\"color\": \"#2a3f5f\"}, \"error_y\": {\"color\": \"#2a3f5f\"}, \"marker\": {\"line\": {\"color\": \"#E5ECF6\", \"width\": 0.5}}, \"type\": \"bar\"}], \"barpolar\": [{\"marker\": {\"line\": {\"color\": \"#E5ECF6\", \"width\": 0.5}}, \"type\": \"barpolar\"}], \"carpet\": [{\"aaxis\": {\"endlinecolor\": \"#2a3f5f\", \"gridcolor\": \"white\", \"linecolor\": \"white\", \"minorgridcolor\": \"white\", \"startlinecolor\": \"#2a3f5f\"}, \"baxis\": {\"endlinecolor\": \"#2a3f5f\", \"gridcolor\": \"white\", \"linecolor\": \"white\", \"minorgridcolor\": \"white\", \"startlinecolor\": \"#2a3f5f\"}, \"type\": \"carpet\"}], \"choropleth\": [{\"colorbar\": {\"outlinewidth\": 0, \"ticks\": \"\"}, \"type\": \"choropleth\"}], \"contour\": [{\"colorbar\": {\"outlinewidth\": 0, \"ticks\": \"\"}, \"colorscale\": [[0.0, \"#0d0887\"], [0.1111111111111111, \"#46039f\"], [0.2222222222222222, \"#7201a8\"], [0.3333333333333333, \"#9c179e\"], [0.4444444444444444, \"#bd3786\"], [0.5555555555555556, \"#d8576b\"], [0.6666666666666666, \"#ed7953\"], [0.7777777777777778, \"#fb9f3a\"], [0.8888888888888888, \"#fdca26\"], [1.0, \"#f0f921\"]], \"type\": \"contour\"}], \"contourcarpet\": [{\"colorbar\": {\"outlinewidth\": 0, \"ticks\": \"\"}, \"type\": \"contourcarpet\"}], \"heatmap\": [{\"colorbar\": {\"outlinewidth\": 0, \"ticks\": \"\"}, \"colorscale\": [[0.0, \"#0d0887\"], [0.1111111111111111, \"#46039f\"], [0.2222222222222222, \"#7201a8\"], [0.3333333333333333, \"#9c179e\"], [0.4444444444444444, \"#bd3786\"], [0.5555555555555556, \"#d8576b\"], [0.6666666666666666, \"#ed7953\"], [0.7777777777777778, \"#fb9f3a\"], [0.8888888888888888, \"#fdca26\"], [1.0, \"#f0f921\"]], \"type\": \"heatmap\"}], \"heatmapgl\": [{\"colorbar\": {\"outlinewidth\": 0, \"ticks\": \"\"}, \"colorscale\": [[0.0, \"#0d0887\"], [0.1111111111111111, \"#46039f\"], [0.2222222222222222, \"#7201a8\"], [0.3333333333333333, \"#9c179e\"], [0.4444444444444444, \"#bd3786\"], [0.5555555555555556, \"#d8576b\"], [0.6666666666666666, \"#ed7953\"], [0.7777777777777778, \"#fb9f3a\"], [0.8888888888888888, \"#fdca26\"], [1.0, \"#f0f921\"]], \"type\": \"heatmapgl\"}], \"histogram\": [{\"marker\": {\"colorbar\": {\"outlinewidth\": 0, \"ticks\": \"\"}}, \"type\": \"histogram\"}], \"histogram2d\": [{\"colorbar\": {\"outlinewidth\": 0, \"ticks\": \"\"}, \"colorscale\": [[0.0, \"#0d0887\"], [0.1111111111111111, \"#46039f\"], [0.2222222222222222, \"#7201a8\"], [0.3333333333333333, \"#9c179e\"], [0.4444444444444444, \"#bd3786\"], [0.5555555555555556, \"#d8576b\"], [0.6666666666666666, \"#ed7953\"], [0.7777777777777778, \"#fb9f3a\"], [0.8888888888888888, \"#fdca26\"], [1.0, \"#f0f921\"]], \"type\": \"histogram2d\"}], \"histogram2dcontour\": [{\"colorbar\": {\"outlinewidth\": 0, \"ticks\": \"\"}, \"colorscale\": [[0.0, \"#0d0887\"], [0.1111111111111111, \"#46039f\"], [0.2222222222222222, \"#7201a8\"], [0.3333333333333333, \"#9c179e\"], [0.4444444444444444, \"#bd3786\"], [0.5555555555555556, \"#d8576b\"], [0.6666666666666666, \"#ed7953\"], [0.7777777777777778, \"#fb9f3a\"], [0.8888888888888888, \"#fdca26\"], [1.0, \"#f0f921\"]], \"type\": \"histogram2dcontour\"}], \"mesh3d\": [{\"colorbar\": {\"outlinewidth\": 0, \"ticks\": \"\"}, \"type\": \"mesh3d\"}], \"parcoords\": [{\"line\": {\"colorbar\": {\"outlinewidth\": 0, \"ticks\": \"\"}}, \"type\": \"parcoords\"}], \"pie\": [{\"automargin\": true, \"type\": \"pie\"}], \"scatter\": [{\"marker\": {\"colorbar\": {\"outlinewidth\": 0, \"ticks\": \"\"}}, \"type\": \"scatter\"}], \"scatter3d\": [{\"line\": {\"colorbar\": {\"outlinewidth\": 0, \"ticks\": \"\"}}, \"marker\": {\"colorbar\": {\"outlinewidth\": 0, \"ticks\": \"\"}}, \"type\": \"scatter3d\"}], \"scattercarpet\": [{\"marker\": {\"colorbar\": {\"outlinewidth\": 0, \"ticks\": \"\"}}, \"type\": \"scattercarpet\"}], \"scattergeo\": [{\"marker\": {\"colorbar\": {\"outlinewidth\": 0, \"ticks\": \"\"}}, \"type\": \"scattergeo\"}], \"scattergl\": [{\"marker\": {\"colorbar\": {\"outlinewidth\": 0, \"ticks\": \"\"}}, \"type\": \"scattergl\"}], \"scattermapbox\": [{\"marker\": {\"colorbar\": {\"outlinewidth\": 0, \"ticks\": \"\"}}, \"type\": \"scattermapbox\"}], \"scatterpolar\": [{\"marker\": {\"colorbar\": {\"outlinewidth\": 0, \"ticks\": \"\"}}, \"type\": \"scatterpolar\"}], \"scatterpolargl\": [{\"marker\": {\"colorbar\": {\"outlinewidth\": 0, \"ticks\": \"\"}}, \"type\": \"scatterpolargl\"}], \"scatterternary\": [{\"marker\": {\"colorbar\": {\"outlinewidth\": 0, \"ticks\": \"\"}}, \"type\": \"scatterternary\"}], \"surface\": [{\"colorbar\": {\"outlinewidth\": 0, \"ticks\": \"\"}, \"colorscale\": [[0.0, \"#0d0887\"], [0.1111111111111111, \"#46039f\"], [0.2222222222222222, \"#7201a8\"], [0.3333333333333333, \"#9c179e\"], [0.4444444444444444, \"#bd3786\"], [0.5555555555555556, \"#d8576b\"], [0.6666666666666666, \"#ed7953\"], [0.7777777777777778, \"#fb9f3a\"], [0.8888888888888888, \"#fdca26\"], [1.0, \"#f0f921\"]], \"type\": \"surface\"}], \"table\": [{\"cells\": {\"fill\": {\"color\": \"#EBF0F8\"}, \"line\": {\"color\": \"white\"}}, \"header\": {\"fill\": {\"color\": \"#C8D4E3\"}, \"line\": {\"color\": \"white\"}}, \"type\": \"table\"}]}, \"layout\": {\"annotationdefaults\": {\"arrowcolor\": \"#2a3f5f\", \"arrowhead\": 0, \"arrowwidth\": 1}, \"coloraxis\": {\"colorbar\": {\"outlinewidth\": 0, \"ticks\": \"\"}}, \"colorscale\": {\"diverging\": [[0, \"#8e0152\"], [0.1, \"#c51b7d\"], [0.2, \"#de77ae\"], [0.3, \"#f1b6da\"], [0.4, \"#fde0ef\"], [0.5, \"#f7f7f7\"], [0.6, \"#e6f5d0\"], [0.7, \"#b8e186\"], [0.8, \"#7fbc41\"], [0.9, \"#4d9221\"], [1, \"#276419\"]], \"sequential\": [[0.0, \"#0d0887\"], [0.1111111111111111, \"#46039f\"], [0.2222222222222222, \"#7201a8\"], [0.3333333333333333, \"#9c179e\"], [0.4444444444444444, \"#bd3786\"], [0.5555555555555556, \"#d8576b\"], [0.6666666666666666, \"#ed7953\"], [0.7777777777777778, \"#fb9f3a\"], [0.8888888888888888, \"#fdca26\"], [1.0, \"#f0f921\"]], \"sequentialminus\": [[0.0, \"#0d0887\"], [0.1111111111111111, \"#46039f\"], [0.2222222222222222, \"#7201a8\"], [0.3333333333333333, \"#9c179e\"], [0.4444444444444444, \"#bd3786\"], [0.5555555555555556, \"#d8576b\"], [0.6666666666666666, \"#ed7953\"], [0.7777777777777778, \"#fb9f3a\"], [0.8888888888888888, \"#fdca26\"], [1.0, \"#f0f921\"]]}, \"colorway\": [\"#636efa\", \"#EF553B\", \"#00cc96\", \"#ab63fa\", \"#FFA15A\", \"#19d3f3\", \"#FF6692\", \"#B6E880\", \"#FF97FF\", \"#FECB52\"], \"font\": {\"color\": \"#2a3f5f\"}, \"geo\": {\"bgcolor\": \"white\", \"lakecolor\": \"white\", \"landcolor\": \"#E5ECF6\", \"showlakes\": true, \"showland\": true, \"subunitcolor\": \"white\"}, \"hoverlabel\": {\"align\": \"left\"}, \"hovermode\": \"closest\", \"mapbox\": {\"style\": \"light\"}, \"paper_bgcolor\": \"white\", \"plot_bgcolor\": \"#E5ECF6\", \"polar\": {\"angularaxis\": {\"gridcolor\": \"white\", \"linecolor\": \"white\", \"ticks\": \"\"}, \"bgcolor\": \"#E5ECF6\", \"radialaxis\": {\"gridcolor\": \"white\", \"linecolor\": \"white\", \"ticks\": \"\"}}, \"scene\": {\"xaxis\": {\"backgroundcolor\": \"#E5ECF6\", \"gridcolor\": \"white\", \"gridwidth\": 2, \"linecolor\": \"white\", \"showbackground\": true, \"ticks\": \"\", \"zerolinecolor\": \"white\"}, \"yaxis\": {\"backgroundcolor\": \"#E5ECF6\", \"gridcolor\": \"white\", \"gridwidth\": 2, \"linecolor\": \"white\", \"showbackground\": true, \"ticks\": \"\", \"zerolinecolor\": \"white\"}, \"zaxis\": {\"backgroundcolor\": \"#E5ECF6\", \"gridcolor\": \"white\", \"gridwidth\": 2, \"linecolor\": \"white\", \"showbackground\": true, \"ticks\": \"\", \"zerolinecolor\": \"white\"}}, \"shapedefaults\": {\"line\": {\"color\": \"#2a3f5f\"}}, \"ternary\": {\"aaxis\": {\"gridcolor\": \"white\", \"linecolor\": \"white\", \"ticks\": \"\"}, \"baxis\": {\"gridcolor\": \"white\", \"linecolor\": \"white\", \"ticks\": \"\"}, \"bgcolor\": \"#E5ECF6\", \"caxis\": {\"gridcolor\": \"white\", \"linecolor\": \"white\", \"ticks\": \"\"}}, \"title\": {\"x\": 0.05}, \"xaxis\": {\"automargin\": true, \"gridcolor\": \"white\", \"linecolor\": \"white\", \"ticks\": \"\", \"title\": {\"standoff\": 15}, \"zerolinecolor\": \"white\", \"zerolinewidth\": 2}, \"yaxis\": {\"automargin\": true, \"gridcolor\": \"white\", \"linecolor\": \"white\", \"ticks\": \"\", \"title\": {\"standoff\": 15}, \"zerolinecolor\": \"white\", \"zerolinewidth\": 2}}}, \"title\": {\"text\": \"Plots of States vs CWTA\"}, \"xaxis\": {\"anchor\": \"y\", \"domain\": [0.0, 1.0], \"title\": {\"text\": \"State name\"}}, \"yaxis\": {\"anchor\": \"x\", \"domain\": [0.0, 1.0], \"title\": {\"text\": \"Cost/wt action\"}}},\n",
       "                        {\"responsive\": true}\n",
       "                    ).then(function(){\n",
       "                            \n",
       "var gd = document.getElementById('37fe7e79-1c1c-49e6-926c-10342af81a8e');\n",
       "var x = new MutationObserver(function (mutations, observer) {{\n",
       "        var display = window.getComputedStyle(gd).display;\n",
       "        if (!display || display === 'none') {{\n",
       "            console.log([gd, 'removed!']);\n",
       "            Plotly.purge(gd);\n",
       "            observer.disconnect();\n",
       "        }}\n",
       "}});\n",
       "\n",
       "// Listen for the removal of the full notebook cells\n",
       "var notebookContainer = gd.closest('#notebook-container');\n",
       "if (notebookContainer) {{\n",
       "    x.observe(notebookContainer, {childList: true});\n",
       "}}\n",
       "\n",
       "// Listen for the clearing of the current output cell\n",
       "var outputEl = gd.closest('.output');\n",
       "if (outputEl) {{\n",
       "    x.observe(outputEl, {childList: true});\n",
       "}}\n",
       "\n",
       "                        })\n",
       "                };\n",
       "                });\n",
       "            </script>\n",
       "        </div>"
      ]
     },
     "metadata": {},
     "output_type": "display_data"
    }
   ],
   "source": [
    "fig1 = px.scatter(df_joined, x=\"State name\", y=\"Cost/wt action\", size= \"Cost\", color=\"Cost/wt action\")\n",
    "fig1.update_layout(title_text=\"Plots of States vs CWTA\")\n",
    "fig1.add_shape(type=\"line\",x0=df_joined[\"State name\"][0], y0=dma_CWTA_mean ,x1= df_joined[\"State name\"][len(df_joined[\"State name\"])-1 ], y1=dma_CWTA_mean,line = dict(color=\"RoyalBlue\", width=2))\n",
    "fig1.show()"
   ]
  },
  {
   "cell_type": "markdown",
   "metadata": {},
   "source": [
    "#### Picture 2: Cost and CWTA"
   ]
  },
  {
   "cell_type": "code",
   "execution_count": 89,
   "metadata": {},
   "outputs": [
    {
     "data": {
      "application/vnd.plotly.v1+json": {
       "config": {
        "plotlyServerURL": "https://plot.ly"
       },
       "data": [
        {
         "geo": "geo",
         "hovertemplate": "<b>%{hovertext}</b><br><br>Cost=%{marker.size}<br>latitude=%{lat}<br>longitude=%{lon}<br>Cost/wt action=%{marker.color}<extra></extra>",
         "hovertext": [
          "Florida",
          "Delaware",
          "North Carolina",
          "Louisiana",
          "Colorado",
          "Mississippi",
          "Rhode Island",
          "Montana",
          "New Mexico",
          "Missouri",
          "South Carolina",
          "North Dakota",
          "Utah",
          "New Hampshire",
          "District of Columbia",
          "Hawaii",
          "Massachusetts",
          "Oregon",
          "Alabama",
          "Texas",
          "Indiana",
          "Nevada",
          "South Dakota",
          "Arkansas",
          "Kentucky",
          "Pennsylvania",
          "West Virginia",
          "Tennessee",
          "Wyoming",
          "Michigan",
          "Ohio",
          "Maine",
          "Illinois",
          "Vermont",
          "Iowa",
          "Virginia",
          "Arizona",
          "Georgia",
          "Oklahoma",
          "Washington",
          "New York",
          "Connecticut",
          "Alaska",
          "Maryland",
          "Wisconsin",
          "Kansas",
          "Nebraska",
          "California",
          "Idaho",
          "New Jersey",
          "Minnesota"
         ],
         "lat": [
          27.664827000000002,
          38.910832,
          35.759572999999996,
          31.244822999999997,
          39.550051,
          32.354668,
          41.580095,
          46.879682,
          34.97273,
          37.964253,
          33.836081,
          47.551493,
          39.32098,
          43.193852,
          38.905985,
          19.898682,
          42.407211,
          43.804133,
          32.318231,
          31.968598999999998,
          40.551217,
          38.802609999999994,
          43.969515,
          35.20105,
          37.839333,
          41.203322,
          38.597626,
          35.517491,
          43.075967999999996,
          44.314844,
          40.417287,
          45.253783,
          40.633125,
          44.558803000000005,
          41.878003,
          37.431573,
          34.048928000000004,
          32.157435,
          35.007752,
          47.751073999999996,
          43.299428000000006,
          41.603221000000005,
          63.588753000000004,
          39.045755,
          43.784440000000004,
          39.011902,
          41.492537,
          36.778261,
          44.068202,
          40.058324,
          46.729553
         ],
         "legendgroup": "",
         "lon": [
          -81.515754,
          -75.52767,
          -79.0193,
          -92.14502399999999,
          -105.782067,
          -89.398528,
          -71.477429,
          -110.36256599999999,
          -105.03236299999999,
          -91.83183299999999,
          -81.163725,
          -101.002012,
          -111.093731,
          -71.572395,
          -77.03341800000001,
          -155.66585700000002,
          -71.382437,
          -120.554201,
          -86.902298,
          -99.901813,
          -85.602364,
          -116.419389,
          -99.901813,
          -91.83183299999999,
          -84.27001800000001,
          -77.194525,
          -80.454903,
          -86.58044699999999,
          -107.29028400000001,
          -85.602364,
          -82.907123,
          -69.44546899999999,
          -89.398528,
          -72.577841,
          -93.097702,
          -78.656894,
          -111.093731,
          -82.907123,
          -97.092877,
          -120.74013899999999,
          -74.217933,
          -73.087749,
          -154.493062,
          -76.641271,
          -88.787868,
          -98.484246,
          -99.901813,
          -119.41793200000001,
          -114.74204099999999,
          -74.405661,
          -94.6859
         ],
         "marker": {
          "color": [
           2.815773,
           2.958,
           2.274277,
           2.873527,
           2.460098,
           3.592157,
           2.291,
           2.387978,
           2.706124,
           2.693355,
           3.036266,
           4.454167,
           2.543315,
           2.58487,
           1.754194,
           1.938145,
           2.479723,
           2.733841,
           2.880795,
           2.719833,
           2.906111,
           3.334521,
           2.653704,
           2.502667,
           2.436859,
           2.547061,
           2.716264,
           2.740392,
           2.462273,
           2.857752,
           2.999522,
           2.923494,
           2.41519,
           2.982955,
           2.495896,
           2.639233,
           2.495274,
           2.473731,
           3.695174,
           2.43891,
           2.216158,
           2.55334,
           3.393333,
           2.817588,
           2.88258,
           2.61959,
           2.886606,
           2.654895,
           2.567622,
           2.1107,
           2.84884
          ],
          "coloraxis": "coloraxis",
          "size": [
           6267.91,
           236.64,
           2360.7,
           741.37,
           1257.11,
           549.6,
           229.1,
           212.53,
           349.09,
           1653.72,
           1187.18,
           106.9,
           460.34,
           398.07,
           380.66,
           240.33,
           2777.29,
           790.08,
           1051.49,
           5211.2,
           1360.06,
           486.84,
           286.6,
           525.56,
           845.59,
           4584.71,
           494.36,
           1468.85,
           54.17,
           2351.93,
           2573.59,
           485.3,
           3369.19,
           131.25,
           529.13,
           2341,
           1731.72,
           2075.46,
           635.57,
           1297.5,
           7399.75,
           1223.05,
           61.08,
           1915.96,
           994.49,
           510.82,
           637.94,
           8694.78,
           367.17,
           6116.81,
           1498.49
          ],
          "sizemode": "area",
          "sizeref": 21.73695
         },
         "name": "",
         "showlegend": false,
         "type": "scattergeo"
        }
       ],
       "layout": {
        "coloraxis": {
         "colorbar": {
          "title": {
           "text": "Cost/wt action"
          }
         },
         "colorscale": [
          [
           0,
           "#0d0887"
          ],
          [
           0.1111111111111111,
           "#46039f"
          ],
          [
           0.2222222222222222,
           "#7201a8"
          ],
          [
           0.3333333333333333,
           "#9c179e"
          ],
          [
           0.4444444444444444,
           "#bd3786"
          ],
          [
           0.5555555555555556,
           "#d8576b"
          ],
          [
           0.6666666666666666,
           "#ed7953"
          ],
          [
           0.7777777777777778,
           "#fb9f3a"
          ],
          [
           0.8888888888888888,
           "#fdca26"
          ],
          [
           1,
           "#f0f921"
          ]
         ]
        },
        "geo": {
         "center": {},
         "domain": {
          "x": [
           0,
           1
          ],
          "y": [
           0,
           1
          ]
         },
         "projection": {
          "type": "natural earth"
         }
        },
        "legend": {
         "itemsizing": "constant",
         "tracegroupgap": 0
        },
        "margin": {
         "t": 60
        },
        "template": {
         "data": {
          "bar": [
           {
            "error_x": {
             "color": "#2a3f5f"
            },
            "error_y": {
             "color": "#2a3f5f"
            },
            "marker": {
             "line": {
              "color": "#E5ECF6",
              "width": 0.5
             }
            },
            "type": "bar"
           }
          ],
          "barpolar": [
           {
            "marker": {
             "line": {
              "color": "#E5ECF6",
              "width": 0.5
             }
            },
            "type": "barpolar"
           }
          ],
          "carpet": [
           {
            "aaxis": {
             "endlinecolor": "#2a3f5f",
             "gridcolor": "white",
             "linecolor": "white",
             "minorgridcolor": "white",
             "startlinecolor": "#2a3f5f"
            },
            "baxis": {
             "endlinecolor": "#2a3f5f",
             "gridcolor": "white",
             "linecolor": "white",
             "minorgridcolor": "white",
             "startlinecolor": "#2a3f5f"
            },
            "type": "carpet"
           }
          ],
          "choropleth": [
           {
            "colorbar": {
             "outlinewidth": 0,
             "ticks": ""
            },
            "type": "choropleth"
           }
          ],
          "contour": [
           {
            "colorbar": {
             "outlinewidth": 0,
             "ticks": ""
            },
            "colorscale": [
             [
              0,
              "#0d0887"
             ],
             [
              0.1111111111111111,
              "#46039f"
             ],
             [
              0.2222222222222222,
              "#7201a8"
             ],
             [
              0.3333333333333333,
              "#9c179e"
             ],
             [
              0.4444444444444444,
              "#bd3786"
             ],
             [
              0.5555555555555556,
              "#d8576b"
             ],
             [
              0.6666666666666666,
              "#ed7953"
             ],
             [
              0.7777777777777778,
              "#fb9f3a"
             ],
             [
              0.8888888888888888,
              "#fdca26"
             ],
             [
              1,
              "#f0f921"
             ]
            ],
            "type": "contour"
           }
          ],
          "contourcarpet": [
           {
            "colorbar": {
             "outlinewidth": 0,
             "ticks": ""
            },
            "type": "contourcarpet"
           }
          ],
          "heatmap": [
           {
            "colorbar": {
             "outlinewidth": 0,
             "ticks": ""
            },
            "colorscale": [
             [
              0,
              "#0d0887"
             ],
             [
              0.1111111111111111,
              "#46039f"
             ],
             [
              0.2222222222222222,
              "#7201a8"
             ],
             [
              0.3333333333333333,
              "#9c179e"
             ],
             [
              0.4444444444444444,
              "#bd3786"
             ],
             [
              0.5555555555555556,
              "#d8576b"
             ],
             [
              0.6666666666666666,
              "#ed7953"
             ],
             [
              0.7777777777777778,
              "#fb9f3a"
             ],
             [
              0.8888888888888888,
              "#fdca26"
             ],
             [
              1,
              "#f0f921"
             ]
            ],
            "type": "heatmap"
           }
          ],
          "heatmapgl": [
           {
            "colorbar": {
             "outlinewidth": 0,
             "ticks": ""
            },
            "colorscale": [
             [
              0,
              "#0d0887"
             ],
             [
              0.1111111111111111,
              "#46039f"
             ],
             [
              0.2222222222222222,
              "#7201a8"
             ],
             [
              0.3333333333333333,
              "#9c179e"
             ],
             [
              0.4444444444444444,
              "#bd3786"
             ],
             [
              0.5555555555555556,
              "#d8576b"
             ],
             [
              0.6666666666666666,
              "#ed7953"
             ],
             [
              0.7777777777777778,
              "#fb9f3a"
             ],
             [
              0.8888888888888888,
              "#fdca26"
             ],
             [
              1,
              "#f0f921"
             ]
            ],
            "type": "heatmapgl"
           }
          ],
          "histogram": [
           {
            "marker": {
             "colorbar": {
              "outlinewidth": 0,
              "ticks": ""
             }
            },
            "type": "histogram"
           }
          ],
          "histogram2d": [
           {
            "colorbar": {
             "outlinewidth": 0,
             "ticks": ""
            },
            "colorscale": [
             [
              0,
              "#0d0887"
             ],
             [
              0.1111111111111111,
              "#46039f"
             ],
             [
              0.2222222222222222,
              "#7201a8"
             ],
             [
              0.3333333333333333,
              "#9c179e"
             ],
             [
              0.4444444444444444,
              "#bd3786"
             ],
             [
              0.5555555555555556,
              "#d8576b"
             ],
             [
              0.6666666666666666,
              "#ed7953"
             ],
             [
              0.7777777777777778,
              "#fb9f3a"
             ],
             [
              0.8888888888888888,
              "#fdca26"
             ],
             [
              1,
              "#f0f921"
             ]
            ],
            "type": "histogram2d"
           }
          ],
          "histogram2dcontour": [
           {
            "colorbar": {
             "outlinewidth": 0,
             "ticks": ""
            },
            "colorscale": [
             [
              0,
              "#0d0887"
             ],
             [
              0.1111111111111111,
              "#46039f"
             ],
             [
              0.2222222222222222,
              "#7201a8"
             ],
             [
              0.3333333333333333,
              "#9c179e"
             ],
             [
              0.4444444444444444,
              "#bd3786"
             ],
             [
              0.5555555555555556,
              "#d8576b"
             ],
             [
              0.6666666666666666,
              "#ed7953"
             ],
             [
              0.7777777777777778,
              "#fb9f3a"
             ],
             [
              0.8888888888888888,
              "#fdca26"
             ],
             [
              1,
              "#f0f921"
             ]
            ],
            "type": "histogram2dcontour"
           }
          ],
          "mesh3d": [
           {
            "colorbar": {
             "outlinewidth": 0,
             "ticks": ""
            },
            "type": "mesh3d"
           }
          ],
          "parcoords": [
           {
            "line": {
             "colorbar": {
              "outlinewidth": 0,
              "ticks": ""
             }
            },
            "type": "parcoords"
           }
          ],
          "pie": [
           {
            "automargin": true,
            "type": "pie"
           }
          ],
          "scatter": [
           {
            "marker": {
             "colorbar": {
              "outlinewidth": 0,
              "ticks": ""
             }
            },
            "type": "scatter"
           }
          ],
          "scatter3d": [
           {
            "line": {
             "colorbar": {
              "outlinewidth": 0,
              "ticks": ""
             }
            },
            "marker": {
             "colorbar": {
              "outlinewidth": 0,
              "ticks": ""
             }
            },
            "type": "scatter3d"
           }
          ],
          "scattercarpet": [
           {
            "marker": {
             "colorbar": {
              "outlinewidth": 0,
              "ticks": ""
             }
            },
            "type": "scattercarpet"
           }
          ],
          "scattergeo": [
           {
            "marker": {
             "colorbar": {
              "outlinewidth": 0,
              "ticks": ""
             }
            },
            "type": "scattergeo"
           }
          ],
          "scattergl": [
           {
            "marker": {
             "colorbar": {
              "outlinewidth": 0,
              "ticks": ""
             }
            },
            "type": "scattergl"
           }
          ],
          "scattermapbox": [
           {
            "marker": {
             "colorbar": {
              "outlinewidth": 0,
              "ticks": ""
             }
            },
            "type": "scattermapbox"
           }
          ],
          "scatterpolar": [
           {
            "marker": {
             "colorbar": {
              "outlinewidth": 0,
              "ticks": ""
             }
            },
            "type": "scatterpolar"
           }
          ],
          "scatterpolargl": [
           {
            "marker": {
             "colorbar": {
              "outlinewidth": 0,
              "ticks": ""
             }
            },
            "type": "scatterpolargl"
           }
          ],
          "scatterternary": [
           {
            "marker": {
             "colorbar": {
              "outlinewidth": 0,
              "ticks": ""
             }
            },
            "type": "scatterternary"
           }
          ],
          "surface": [
           {
            "colorbar": {
             "outlinewidth": 0,
             "ticks": ""
            },
            "colorscale": [
             [
              0,
              "#0d0887"
             ],
             [
              0.1111111111111111,
              "#46039f"
             ],
             [
              0.2222222222222222,
              "#7201a8"
             ],
             [
              0.3333333333333333,
              "#9c179e"
             ],
             [
              0.4444444444444444,
              "#bd3786"
             ],
             [
              0.5555555555555556,
              "#d8576b"
             ],
             [
              0.6666666666666666,
              "#ed7953"
             ],
             [
              0.7777777777777778,
              "#fb9f3a"
             ],
             [
              0.8888888888888888,
              "#fdca26"
             ],
             [
              1,
              "#f0f921"
             ]
            ],
            "type": "surface"
           }
          ],
          "table": [
           {
            "cells": {
             "fill": {
              "color": "#EBF0F8"
             },
             "line": {
              "color": "white"
             }
            },
            "header": {
             "fill": {
              "color": "#C8D4E3"
             },
             "line": {
              "color": "white"
             }
            },
            "type": "table"
           }
          ]
         },
         "layout": {
          "annotationdefaults": {
           "arrowcolor": "#2a3f5f",
           "arrowhead": 0,
           "arrowwidth": 1
          },
          "coloraxis": {
           "colorbar": {
            "outlinewidth": 0,
            "ticks": ""
           }
          },
          "colorscale": {
           "diverging": [
            [
             0,
             "#8e0152"
            ],
            [
             0.1,
             "#c51b7d"
            ],
            [
             0.2,
             "#de77ae"
            ],
            [
             0.3,
             "#f1b6da"
            ],
            [
             0.4,
             "#fde0ef"
            ],
            [
             0.5,
             "#f7f7f7"
            ],
            [
             0.6,
             "#e6f5d0"
            ],
            [
             0.7,
             "#b8e186"
            ],
            [
             0.8,
             "#7fbc41"
            ],
            [
             0.9,
             "#4d9221"
            ],
            [
             1,
             "#276419"
            ]
           ],
           "sequential": [
            [
             0,
             "#0d0887"
            ],
            [
             0.1111111111111111,
             "#46039f"
            ],
            [
             0.2222222222222222,
             "#7201a8"
            ],
            [
             0.3333333333333333,
             "#9c179e"
            ],
            [
             0.4444444444444444,
             "#bd3786"
            ],
            [
             0.5555555555555556,
             "#d8576b"
            ],
            [
             0.6666666666666666,
             "#ed7953"
            ],
            [
             0.7777777777777778,
             "#fb9f3a"
            ],
            [
             0.8888888888888888,
             "#fdca26"
            ],
            [
             1,
             "#f0f921"
            ]
           ],
           "sequentialminus": [
            [
             0,
             "#0d0887"
            ],
            [
             0.1111111111111111,
             "#46039f"
            ],
            [
             0.2222222222222222,
             "#7201a8"
            ],
            [
             0.3333333333333333,
             "#9c179e"
            ],
            [
             0.4444444444444444,
             "#bd3786"
            ],
            [
             0.5555555555555556,
             "#d8576b"
            ],
            [
             0.6666666666666666,
             "#ed7953"
            ],
            [
             0.7777777777777778,
             "#fb9f3a"
            ],
            [
             0.8888888888888888,
             "#fdca26"
            ],
            [
             1,
             "#f0f921"
            ]
           ]
          },
          "colorway": [
           "#636efa",
           "#EF553B",
           "#00cc96",
           "#ab63fa",
           "#FFA15A",
           "#19d3f3",
           "#FF6692",
           "#B6E880",
           "#FF97FF",
           "#FECB52"
          ],
          "font": {
           "color": "#2a3f5f"
          },
          "geo": {
           "bgcolor": "white",
           "lakecolor": "white",
           "landcolor": "#E5ECF6",
           "showlakes": true,
           "showland": true,
           "subunitcolor": "white"
          },
          "hoverlabel": {
           "align": "left"
          },
          "hovermode": "closest",
          "mapbox": {
           "style": "light"
          },
          "paper_bgcolor": "white",
          "plot_bgcolor": "#E5ECF6",
          "polar": {
           "angularaxis": {
            "gridcolor": "white",
            "linecolor": "white",
            "ticks": ""
           },
           "bgcolor": "#E5ECF6",
           "radialaxis": {
            "gridcolor": "white",
            "linecolor": "white",
            "ticks": ""
           }
          },
          "scene": {
           "xaxis": {
            "backgroundcolor": "#E5ECF6",
            "gridcolor": "white",
            "gridwidth": 2,
            "linecolor": "white",
            "showbackground": true,
            "ticks": "",
            "zerolinecolor": "white"
           },
           "yaxis": {
            "backgroundcolor": "#E5ECF6",
            "gridcolor": "white",
            "gridwidth": 2,
            "linecolor": "white",
            "showbackground": true,
            "ticks": "",
            "zerolinecolor": "white"
           },
           "zaxis": {
            "backgroundcolor": "#E5ECF6",
            "gridcolor": "white",
            "gridwidth": 2,
            "linecolor": "white",
            "showbackground": true,
            "ticks": "",
            "zerolinecolor": "white"
           }
          },
          "shapedefaults": {
           "line": {
            "color": "#2a3f5f"
           }
          },
          "ternary": {
           "aaxis": {
            "gridcolor": "white",
            "linecolor": "white",
            "ticks": ""
           },
           "baxis": {
            "gridcolor": "white",
            "linecolor": "white",
            "ticks": ""
           },
           "bgcolor": "#E5ECF6",
           "caxis": {
            "gridcolor": "white",
            "linecolor": "white",
            "ticks": ""
           }
          },
          "title": {
           "x": 0.05
          },
          "xaxis": {
           "automargin": true,
           "gridcolor": "white",
           "linecolor": "white",
           "ticks": "",
           "title": {
            "standoff": 15
           },
           "zerolinecolor": "white",
           "zerolinewidth": 2
          },
          "yaxis": {
           "automargin": true,
           "gridcolor": "white",
           "linecolor": "white",
           "ticks": "",
           "title": {
            "standoff": 15
           },
           "zerolinecolor": "white",
           "zerolinewidth": 2
          }
         }
        }
       }
      },
      "text/html": [
       "<div>\n",
       "        \n",
       "        \n",
       "            <div id=\"5e9439c1-104e-4c1e-aba4-bbd7e41f1c80\" class=\"plotly-graph-div\" style=\"height:525px; width:100%;\"></div>\n",
       "            <script type=\"text/javascript\">\n",
       "                require([\"plotly\"], function(Plotly) {\n",
       "                    window.PLOTLYENV=window.PLOTLYENV || {};\n",
       "                    \n",
       "                if (document.getElementById(\"5e9439c1-104e-4c1e-aba4-bbd7e41f1c80\")) {\n",
       "                    Plotly.newPlot(\n",
       "                        '5e9439c1-104e-4c1e-aba4-bbd7e41f1c80',\n",
       "                        [{\"geo\": \"geo\", \"hovertemplate\": \"<b>%{hovertext}</b><br><br>Cost=%{marker.size}<br>latitude=%{lat}<br>longitude=%{lon}<br>Cost/wt action=%{marker.color}<extra></extra>\", \"hovertext\": [\"Florida\", \"Delaware\", \"North Carolina\", \"Louisiana\", \"Colorado\", \"Mississippi\", \"Rhode Island\", \"Montana\", \"New Mexico\", \"Missouri\", \"South Carolina\", \"North Dakota\", \"Utah\", \"New Hampshire\", \"District of Columbia\", \"Hawaii\", \"Massachusetts\", \"Oregon\", \"Alabama\", \"Texas\", \"Indiana\", \"Nevada\", \"South Dakota\", \"Arkansas\", \"Kentucky\", \"Pennsylvania\", \"West Virginia\", \"Tennessee\", \"Wyoming\", \"Michigan\", \"Ohio\", \"Maine\", \"Illinois\", \"Vermont\", \"Iowa\", \"Virginia\", \"Arizona\", \"Georgia\", \"Oklahoma\", \"Washington\", \"New York\", \"Connecticut\", \"Alaska\", \"Maryland\", \"Wisconsin\", \"Kansas\", \"Nebraska\", \"California\", \"Idaho\", \"New Jersey\", \"Minnesota\"], \"lat\": [27.664827000000002, 38.910832, 35.759572999999996, 31.244822999999997, 39.550051, 32.354668, 41.580095, 46.879682, 34.97273, 37.964253, 33.836081, 47.551493, 39.32098, 43.193852, 38.905985, 19.898682, 42.407211, 43.804133, 32.318231, 31.968598999999998, 40.551217, 38.802609999999994, 43.969515, 35.20105, 37.839333, 41.203322, 38.597626, 35.517491, 43.075967999999996, 44.314844, 40.417287, 45.253783, 40.633125, 44.558803000000005, 41.878003, 37.431573, 34.048928000000004, 32.157435, 35.007752, 47.751073999999996, 43.299428000000006, 41.603221000000005, 63.588753000000004, 39.045755, 43.784440000000004, 39.011902, 41.492537, 36.778261, 44.068202, 40.058324, 46.729553], \"legendgroup\": \"\", \"lon\": [-81.515754, -75.52767, -79.0193, -92.14502399999999, -105.782067, -89.398528, -71.477429, -110.36256599999999, -105.03236299999999, -91.83183299999999, -81.163725, -101.002012, -111.093731, -71.572395, -77.03341800000001, -155.66585700000002, -71.382437, -120.554201, -86.902298, -99.901813, -85.602364, -116.419389, -99.901813, -91.83183299999999, -84.27001800000001, -77.194525, -80.454903, -86.58044699999999, -107.29028400000001, -85.602364, -82.907123, -69.44546899999999, -89.398528, -72.577841, -93.097702, -78.656894, -111.093731, -82.907123, -97.092877, -120.74013899999999, -74.217933, -73.087749, -154.493062, -76.641271, -88.787868, -98.484246, -99.901813, -119.41793200000001, -114.74204099999999, -74.405661, -94.6859], \"marker\": {\"color\": [2.815773, 2.958, 2.274277, 2.873527, 2.460098, 3.592157, 2.291, 2.387978, 2.706124, 2.693355, 3.036266, 4.454167, 2.543315, 2.58487, 1.754194, 1.938145, 2.479723, 2.733841, 2.880795, 2.719833, 2.906111, 3.334521, 2.653704, 2.502667, 2.436859, 2.547061, 2.716264, 2.740392, 2.462273, 2.857752, 2.999522, 2.923494, 2.41519, 2.982955, 2.495896, 2.639233, 2.495274, 2.473731, 3.695174, 2.43891, 2.216158, 2.55334, 3.393333, 2.817588, 2.88258, 2.61959, 2.886606, 2.654895, 2.567622, 2.1107, 2.84884], \"coloraxis\": \"coloraxis\", \"size\": [6267.91, 236.64, 2360.7, 741.37, 1257.11, 549.6, 229.1, 212.53, 349.09, 1653.72, 1187.18, 106.9, 460.34, 398.07, 380.66, 240.33, 2777.29, 790.08, 1051.49, 5211.2, 1360.06, 486.84, 286.6, 525.56, 845.59, 4584.71, 494.36, 1468.85, 54.17, 2351.93, 2573.59, 485.3, 3369.19, 131.25, 529.13, 2341.0, 1731.72, 2075.46, 635.57, 1297.5, 7399.75, 1223.05, 61.08, 1915.96, 994.49, 510.82, 637.94, 8694.78, 367.17, 6116.81, 1498.49], \"sizemode\": \"area\", \"sizeref\": 21.73695}, \"name\": \"\", \"showlegend\": false, \"type\": \"scattergeo\"}],\n",
       "                        {\"coloraxis\": {\"colorbar\": {\"title\": {\"text\": \"Cost/wt action\"}}, \"colorscale\": [[0.0, \"#0d0887\"], [0.1111111111111111, \"#46039f\"], [0.2222222222222222, \"#7201a8\"], [0.3333333333333333, \"#9c179e\"], [0.4444444444444444, \"#bd3786\"], [0.5555555555555556, \"#d8576b\"], [0.6666666666666666, \"#ed7953\"], [0.7777777777777778, \"#fb9f3a\"], [0.8888888888888888, \"#fdca26\"], [1.0, \"#f0f921\"]]}, \"geo\": {\"center\": {}, \"domain\": {\"x\": [0.0, 1.0], \"y\": [0.0, 1.0]}, \"projection\": {\"type\": \"natural earth\"}}, \"legend\": {\"itemsizing\": \"constant\", \"tracegroupgap\": 0}, \"margin\": {\"t\": 60}, \"template\": {\"data\": {\"bar\": [{\"error_x\": {\"color\": \"#2a3f5f\"}, \"error_y\": {\"color\": \"#2a3f5f\"}, \"marker\": {\"line\": {\"color\": \"#E5ECF6\", \"width\": 0.5}}, \"type\": \"bar\"}], \"barpolar\": [{\"marker\": {\"line\": {\"color\": \"#E5ECF6\", \"width\": 0.5}}, \"type\": \"barpolar\"}], \"carpet\": [{\"aaxis\": {\"endlinecolor\": \"#2a3f5f\", \"gridcolor\": \"white\", \"linecolor\": \"white\", \"minorgridcolor\": \"white\", \"startlinecolor\": \"#2a3f5f\"}, \"baxis\": {\"endlinecolor\": \"#2a3f5f\", \"gridcolor\": \"white\", \"linecolor\": \"white\", \"minorgridcolor\": \"white\", \"startlinecolor\": \"#2a3f5f\"}, \"type\": \"carpet\"}], \"choropleth\": [{\"colorbar\": {\"outlinewidth\": 0, \"ticks\": \"\"}, \"type\": \"choropleth\"}], \"contour\": [{\"colorbar\": {\"outlinewidth\": 0, \"ticks\": \"\"}, \"colorscale\": [[0.0, \"#0d0887\"], [0.1111111111111111, \"#46039f\"], [0.2222222222222222, \"#7201a8\"], [0.3333333333333333, \"#9c179e\"], [0.4444444444444444, \"#bd3786\"], [0.5555555555555556, \"#d8576b\"], [0.6666666666666666, \"#ed7953\"], [0.7777777777777778, \"#fb9f3a\"], [0.8888888888888888, \"#fdca26\"], [1.0, \"#f0f921\"]], \"type\": \"contour\"}], \"contourcarpet\": [{\"colorbar\": {\"outlinewidth\": 0, \"ticks\": \"\"}, \"type\": \"contourcarpet\"}], \"heatmap\": [{\"colorbar\": {\"outlinewidth\": 0, \"ticks\": \"\"}, \"colorscale\": [[0.0, \"#0d0887\"], [0.1111111111111111, \"#46039f\"], [0.2222222222222222, \"#7201a8\"], [0.3333333333333333, \"#9c179e\"], [0.4444444444444444, \"#bd3786\"], [0.5555555555555556, \"#d8576b\"], [0.6666666666666666, \"#ed7953\"], [0.7777777777777778, \"#fb9f3a\"], [0.8888888888888888, \"#fdca26\"], [1.0, \"#f0f921\"]], \"type\": \"heatmap\"}], \"heatmapgl\": [{\"colorbar\": {\"outlinewidth\": 0, \"ticks\": \"\"}, \"colorscale\": [[0.0, \"#0d0887\"], [0.1111111111111111, \"#46039f\"], [0.2222222222222222, \"#7201a8\"], [0.3333333333333333, \"#9c179e\"], [0.4444444444444444, \"#bd3786\"], [0.5555555555555556, \"#d8576b\"], [0.6666666666666666, \"#ed7953\"], [0.7777777777777778, \"#fb9f3a\"], [0.8888888888888888, \"#fdca26\"], [1.0, \"#f0f921\"]], \"type\": \"heatmapgl\"}], \"histogram\": [{\"marker\": {\"colorbar\": {\"outlinewidth\": 0, \"ticks\": \"\"}}, \"type\": \"histogram\"}], \"histogram2d\": [{\"colorbar\": {\"outlinewidth\": 0, \"ticks\": \"\"}, \"colorscale\": [[0.0, \"#0d0887\"], [0.1111111111111111, \"#46039f\"], [0.2222222222222222, \"#7201a8\"], [0.3333333333333333, \"#9c179e\"], [0.4444444444444444, \"#bd3786\"], [0.5555555555555556, \"#d8576b\"], [0.6666666666666666, \"#ed7953\"], [0.7777777777777778, \"#fb9f3a\"], [0.8888888888888888, \"#fdca26\"], [1.0, \"#f0f921\"]], \"type\": \"histogram2d\"}], \"histogram2dcontour\": [{\"colorbar\": {\"outlinewidth\": 0, \"ticks\": \"\"}, \"colorscale\": [[0.0, \"#0d0887\"], [0.1111111111111111, \"#46039f\"], [0.2222222222222222, \"#7201a8\"], [0.3333333333333333, \"#9c179e\"], [0.4444444444444444, \"#bd3786\"], [0.5555555555555556, \"#d8576b\"], [0.6666666666666666, \"#ed7953\"], [0.7777777777777778, \"#fb9f3a\"], [0.8888888888888888, \"#fdca26\"], [1.0, \"#f0f921\"]], \"type\": \"histogram2dcontour\"}], \"mesh3d\": [{\"colorbar\": {\"outlinewidth\": 0, \"ticks\": \"\"}, \"type\": \"mesh3d\"}], \"parcoords\": [{\"line\": {\"colorbar\": {\"outlinewidth\": 0, \"ticks\": \"\"}}, \"type\": \"parcoords\"}], \"pie\": [{\"automargin\": true, \"type\": \"pie\"}], \"scatter\": [{\"marker\": {\"colorbar\": {\"outlinewidth\": 0, \"ticks\": \"\"}}, \"type\": \"scatter\"}], \"scatter3d\": [{\"line\": {\"colorbar\": {\"outlinewidth\": 0, \"ticks\": \"\"}}, \"marker\": {\"colorbar\": {\"outlinewidth\": 0, \"ticks\": \"\"}}, \"type\": \"scatter3d\"}], \"scattercarpet\": [{\"marker\": {\"colorbar\": {\"outlinewidth\": 0, \"ticks\": \"\"}}, \"type\": \"scattercarpet\"}], \"scattergeo\": [{\"marker\": {\"colorbar\": {\"outlinewidth\": 0, \"ticks\": \"\"}}, \"type\": \"scattergeo\"}], \"scattergl\": [{\"marker\": {\"colorbar\": {\"outlinewidth\": 0, \"ticks\": \"\"}}, \"type\": \"scattergl\"}], \"scattermapbox\": [{\"marker\": {\"colorbar\": {\"outlinewidth\": 0, \"ticks\": \"\"}}, \"type\": \"scattermapbox\"}], \"scatterpolar\": [{\"marker\": {\"colorbar\": {\"outlinewidth\": 0, \"ticks\": \"\"}}, \"type\": \"scatterpolar\"}], \"scatterpolargl\": [{\"marker\": {\"colorbar\": {\"outlinewidth\": 0, \"ticks\": \"\"}}, \"type\": \"scatterpolargl\"}], \"scatterternary\": [{\"marker\": {\"colorbar\": {\"outlinewidth\": 0, \"ticks\": \"\"}}, \"type\": \"scatterternary\"}], \"surface\": [{\"colorbar\": {\"outlinewidth\": 0, \"ticks\": \"\"}, \"colorscale\": [[0.0, \"#0d0887\"], [0.1111111111111111, \"#46039f\"], [0.2222222222222222, \"#7201a8\"], [0.3333333333333333, \"#9c179e\"], [0.4444444444444444, \"#bd3786\"], [0.5555555555555556, \"#d8576b\"], [0.6666666666666666, \"#ed7953\"], [0.7777777777777778, \"#fb9f3a\"], [0.8888888888888888, \"#fdca26\"], [1.0, \"#f0f921\"]], \"type\": \"surface\"}], \"table\": [{\"cells\": {\"fill\": {\"color\": \"#EBF0F8\"}, \"line\": {\"color\": \"white\"}}, \"header\": {\"fill\": {\"color\": \"#C8D4E3\"}, \"line\": {\"color\": \"white\"}}, \"type\": \"table\"}]}, \"layout\": {\"annotationdefaults\": {\"arrowcolor\": \"#2a3f5f\", \"arrowhead\": 0, \"arrowwidth\": 1}, \"coloraxis\": {\"colorbar\": {\"outlinewidth\": 0, \"ticks\": \"\"}}, \"colorscale\": {\"diverging\": [[0, \"#8e0152\"], [0.1, \"#c51b7d\"], [0.2, \"#de77ae\"], [0.3, \"#f1b6da\"], [0.4, \"#fde0ef\"], [0.5, \"#f7f7f7\"], [0.6, \"#e6f5d0\"], [0.7, \"#b8e186\"], [0.8, \"#7fbc41\"], [0.9, \"#4d9221\"], [1, \"#276419\"]], \"sequential\": [[0.0, \"#0d0887\"], [0.1111111111111111, \"#46039f\"], [0.2222222222222222, \"#7201a8\"], [0.3333333333333333, \"#9c179e\"], [0.4444444444444444, \"#bd3786\"], [0.5555555555555556, \"#d8576b\"], [0.6666666666666666, \"#ed7953\"], [0.7777777777777778, \"#fb9f3a\"], [0.8888888888888888, \"#fdca26\"], [1.0, \"#f0f921\"]], \"sequentialminus\": [[0.0, \"#0d0887\"], [0.1111111111111111, \"#46039f\"], [0.2222222222222222, \"#7201a8\"], [0.3333333333333333, \"#9c179e\"], [0.4444444444444444, \"#bd3786\"], [0.5555555555555556, \"#d8576b\"], [0.6666666666666666, \"#ed7953\"], [0.7777777777777778, \"#fb9f3a\"], [0.8888888888888888, \"#fdca26\"], [1.0, \"#f0f921\"]]}, \"colorway\": [\"#636efa\", \"#EF553B\", \"#00cc96\", \"#ab63fa\", \"#FFA15A\", \"#19d3f3\", \"#FF6692\", \"#B6E880\", \"#FF97FF\", \"#FECB52\"], \"font\": {\"color\": \"#2a3f5f\"}, \"geo\": {\"bgcolor\": \"white\", \"lakecolor\": \"white\", \"landcolor\": \"#E5ECF6\", \"showlakes\": true, \"showland\": true, \"subunitcolor\": \"white\"}, \"hoverlabel\": {\"align\": \"left\"}, \"hovermode\": \"closest\", \"mapbox\": {\"style\": \"light\"}, \"paper_bgcolor\": \"white\", \"plot_bgcolor\": \"#E5ECF6\", \"polar\": {\"angularaxis\": {\"gridcolor\": \"white\", \"linecolor\": \"white\", \"ticks\": \"\"}, \"bgcolor\": \"#E5ECF6\", \"radialaxis\": {\"gridcolor\": \"white\", \"linecolor\": \"white\", \"ticks\": \"\"}}, \"scene\": {\"xaxis\": {\"backgroundcolor\": \"#E5ECF6\", \"gridcolor\": \"white\", \"gridwidth\": 2, \"linecolor\": \"white\", \"showbackground\": true, \"ticks\": \"\", \"zerolinecolor\": \"white\"}, \"yaxis\": {\"backgroundcolor\": \"#E5ECF6\", \"gridcolor\": \"white\", \"gridwidth\": 2, \"linecolor\": \"white\", \"showbackground\": true, \"ticks\": \"\", \"zerolinecolor\": \"white\"}, \"zaxis\": {\"backgroundcolor\": \"#E5ECF6\", \"gridcolor\": \"white\", \"gridwidth\": 2, \"linecolor\": \"white\", \"showbackground\": true, \"ticks\": \"\", \"zerolinecolor\": \"white\"}}, \"shapedefaults\": {\"line\": {\"color\": \"#2a3f5f\"}}, \"ternary\": {\"aaxis\": {\"gridcolor\": \"white\", \"linecolor\": \"white\", \"ticks\": \"\"}, \"baxis\": {\"gridcolor\": \"white\", \"linecolor\": \"white\", \"ticks\": \"\"}, \"bgcolor\": \"#E5ECF6\", \"caxis\": {\"gridcolor\": \"white\", \"linecolor\": \"white\", \"ticks\": \"\"}}, \"title\": {\"x\": 0.05}, \"xaxis\": {\"automargin\": true, \"gridcolor\": \"white\", \"linecolor\": \"white\", \"ticks\": \"\", \"title\": {\"standoff\": 15}, \"zerolinecolor\": \"white\", \"zerolinewidth\": 2}, \"yaxis\": {\"automargin\": true, \"gridcolor\": \"white\", \"linecolor\": \"white\", \"ticks\": \"\", \"title\": {\"standoff\": 15}, \"zerolinecolor\": \"white\", \"zerolinewidth\": 2}}}},\n",
       "                        {\"responsive\": true}\n",
       "                    ).then(function(){\n",
       "                            \n",
       "var gd = document.getElementById('5e9439c1-104e-4c1e-aba4-bbd7e41f1c80');\n",
       "var x = new MutationObserver(function (mutations, observer) {{\n",
       "        var display = window.getComputedStyle(gd).display;\n",
       "        if (!display || display === 'none') {{\n",
       "            console.log([gd, 'removed!']);\n",
       "            Plotly.purge(gd);\n",
       "            observer.disconnect();\n",
       "        }}\n",
       "}});\n",
       "\n",
       "// Listen for the removal of the full notebook cells\n",
       "var notebookContainer = gd.closest('#notebook-container');\n",
       "if (notebookContainer) {{\n",
       "    x.observe(notebookContainer, {childList: true});\n",
       "}}\n",
       "\n",
       "// Listen for the clearing of the current output cell\n",
       "var outputEl = gd.closest('.output');\n",
       "if (outputEl) {{\n",
       "    x.observe(outputEl, {childList: true});\n",
       "}}\n",
       "\n",
       "                        })\n",
       "                };\n",
       "                });\n",
       "            </script>\n",
       "        </div>"
      ]
     },
     "metadata": {},
     "output_type": "display_data"
    }
   ],
   "source": [
    "\n",
    "#change data below\n",
    "#px.set_mapbox_access_token(open(\".mapbox_token\").read())\n",
    "fig2 = px.scatter_geo(df_joined, lon=\"longitude\", lat=\"latitude\",\n",
    "                     color=\"Cost/wt action\", # which column to use to set the color of markers\n",
    "                     hover_name=\"State name\", # column added to hover information\n",
    "                     size=\"Cost\", # size of markers\n",
    "                     projection=\"natural earth\")\n",
    "\n",
    "\n",
    "fig2.show()"
   ]
  },
  {
   "cell_type": "markdown",
   "metadata": {},
   "source": [
    "#### Picture 2: Cost and CWTA to standard deviation"
   ]
  },
  {
   "cell_type": "code",
   "execution_count": 33,
   "metadata": {},
   "outputs": [
    {
     "data": {
      "image/png": "[encoded data removed]",
      "text/plain": [
       "<Figure size 432x288 with 1 Axes>"
      ]
     },
     "metadata": {
      "needs_background": "light"
     },
     "output_type": "display_data"
    }
   ],
   "source": [
    "plt.boxplot(dma_df[\"Cost/wt action\"], showmeans=True)\n",
    "plt.grid()"
   ]
  },
  {
   "cell_type": "code",
   "execution_count": 12,
   "metadata": {},
   "outputs": [],
   "source": [
    "#formatting numbers\n",
    "#dma_df[\"Cost\"] = dma_df[\"Cost\"].map('${:,.2f}'.format)\n",
    "#dma_df[\"Cost/wt action\"] = dma_df[\"Cost/wt action\"].map('${:,.2f}'.format)\n",
    "#dma_df[\"Avg CPC\"] = dma_df[\"Avg CPC\"].map('${:,.2f}'.format)\n",
    "#dma_df[\"CTR\"] = dma_df[\"CTR\"].map('{:,.2%}'.format)"
   ]
  },
  {
   "cell_type": "code",
   "execution_count": null,
   "metadata": {},
   "outputs": [],
   "source": []
  },
  {
   "cell_type": "code",
   "execution_count": null,
   "metadata": {},
   "outputs": [],
   "source": []
  }
 ],
 "metadata": {
  "kernelspec": {
   "display_name": "Python 3",
   "language": "python",
   "name": "python3"
  },
  "language_info": {
   "codemirror_mode": {
    "name": "ipython",
    "version": 3
   },
   "file_extension": ".py",
   "mimetype": "text/x-python",
   "name": "python",
   "nbconvert_exporter": "python",
   "pygments_lexer": "ipython3",
   "version": "3.7.6"
  }
 },
 "nbformat": 4,
 "nbformat_minor": 4
}
