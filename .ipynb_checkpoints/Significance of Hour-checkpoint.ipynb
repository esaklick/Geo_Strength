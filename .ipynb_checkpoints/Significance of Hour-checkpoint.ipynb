{
 "cells": [
  {
   "cell_type": "code",
   "execution_count": 2,
   "metadata": {},
   "outputs": [],
   "source": [
    "import pandas as pd\n",
    "import numpy as np\n",
    "\n",
    "import scipy.stats as st"
   ]
  },
  {
   "cell_type": "markdown",
   "metadata": {},
   "source": [
    "### DMA - Import .xlsx of the file"
   ]
  },
  {
   "cell_type": "code",
   "execution_count": 27,
   "metadata": {},
   "outputs": [
    {
     "data": {
      "text/html": [
       "<div>\n",
       "<style scoped>\n",
       "    .dataframe tbody tr th:only-of-type {\n",
       "        vertical-align: middle;\n",
       "    }\n",
       "\n",
       "    .dataframe tbody tr th {\n",
       "        vertical-align: top;\n",
       "    }\n",
       "\n",
       "    .dataframe thead th {\n",
       "        text-align: right;\n",
       "    }\n",
       "</style>\n",
       "<table border=\"1\" class=\"dataframe\">\n",
       "  <thead>\n",
       "    <tr style=\"text-align: right;\">\n",
       "      <th></th>\n",
       "      <th>DMA region ID</th>\n",
       "      <th>Cost</th>\n",
       "      <th>Clicks</th>\n",
       "      <th>Weighted actions</th>\n",
       "      <th>Cost/wt action</th>\n",
       "      <th>Impr</th>\n",
       "      <th>CTR</th>\n",
       "      <th>Avg CPC</th>\n",
       "    </tr>\n",
       "  </thead>\n",
       "  <tbody>\n",
       "    <tr>\n",
       "      <th>count</th>\n",
       "      <td>208.000000</td>\n",
       "      <td>208.000000</td>\n",
       "      <td>208.000000</td>\n",
       "      <td>208.000000</td>\n",
       "      <td>208.000000</td>\n",
       "      <td>208.000000</td>\n",
       "      <td>208.000000</td>\n",
       "      <td>208.000000</td>\n",
       "    </tr>\n",
       "    <tr>\n",
       "      <th>mean</th>\n",
       "      <td>200640.812500</td>\n",
       "      <td>402.207452</td>\n",
       "      <td>85.533654</td>\n",
       "      <td>155.860577</td>\n",
       "      <td>3.111196</td>\n",
       "      <td>826.735577</td>\n",
       "      <td>0.105493</td>\n",
       "      <td>4.741974</td>\n",
       "    </tr>\n",
       "    <tr>\n",
       "      <th>std</th>\n",
       "      <td>100.540608</td>\n",
       "      <td>946.713914</td>\n",
       "      <td>202.238150</td>\n",
       "      <td>425.442736</td>\n",
       "      <td>1.076478</td>\n",
       "      <td>1750.212029</td>\n",
       "      <td>0.032299</td>\n",
       "      <td>0.481807</td>\n",
       "    </tr>\n",
       "    <tr>\n",
       "      <th>min</th>\n",
       "      <td>200500.000000</td>\n",
       "      <td>3.830000</td>\n",
       "      <td>1.000000</td>\n",
       "      <td>1.000000</td>\n",
       "      <td>1.058571</td>\n",
       "      <td>4.000000</td>\n",
       "      <td>0.035714</td>\n",
       "      <td>3.128000</td>\n",
       "    </tr>\n",
       "    <tr>\n",
       "      <th>25%</th>\n",
       "      <td>200551.750000</td>\n",
       "      <td>58.832500</td>\n",
       "      <td>12.000000</td>\n",
       "      <td>17.000000</td>\n",
       "      <td>2.448357</td>\n",
       "      <td>122.250000</td>\n",
       "      <td>0.088707</td>\n",
       "      <td>4.489130</td>\n",
       "    </tr>\n",
       "    <tr>\n",
       "      <th>50%</th>\n",
       "      <td>200627.500000</td>\n",
       "      <td>136.140000</td>\n",
       "      <td>29.000000</td>\n",
       "      <td>48.500000</td>\n",
       "      <td>2.863389</td>\n",
       "      <td>282.500000</td>\n",
       "      <td>0.100240</td>\n",
       "      <td>4.710897</td>\n",
       "    </tr>\n",
       "    <tr>\n",
       "      <th>75%</th>\n",
       "      <td>200722.500000</td>\n",
       "      <td>362.982500</td>\n",
       "      <td>76.000000</td>\n",
       "      <td>144.500000</td>\n",
       "      <td>3.449757</td>\n",
       "      <td>720.750000</td>\n",
       "      <td>0.115331</td>\n",
       "      <td>4.926747</td>\n",
       "    </tr>\n",
       "    <tr>\n",
       "      <th>max</th>\n",
       "      <td>200881.000000</td>\n",
       "      <td>11045.610000</td>\n",
       "      <td>2366.000000</td>\n",
       "      <td>5276.000000</td>\n",
       "      <td>8.427500</td>\n",
       "      <td>18586.000000</td>\n",
       "      <td>0.257143</td>\n",
       "      <td>7.095000</td>\n",
       "    </tr>\n",
       "  </tbody>\n",
       "</table>\n",
       "</div>"
      ],
      "text/plain": [
       "       DMA region ID          Cost       Clicks  Weighted actions  \\\n",
       "count     208.000000    208.000000   208.000000        208.000000   \n",
       "mean   200640.812500    402.207452    85.533654        155.860577   \n",
       "std       100.540608    946.713914   202.238150        425.442736   \n",
       "min    200500.000000      3.830000     1.000000          1.000000   \n",
       "25%    200551.750000     58.832500    12.000000         17.000000   \n",
       "50%    200627.500000    136.140000    29.000000         48.500000   \n",
       "75%    200722.500000    362.982500    76.000000        144.500000   \n",
       "max    200881.000000  11045.610000  2366.000000       5276.000000   \n",
       "\n",
       "       Cost/wt action          Impr         CTR     Avg CPC  \n",
       "count      208.000000    208.000000  208.000000  208.000000  \n",
       "mean         3.111196    826.735577    0.105493    4.741974  \n",
       "std          1.076478   1750.212029    0.032299    0.481807  \n",
       "min          1.058571      4.000000    0.035714    3.128000  \n",
       "25%          2.448357    122.250000    0.088707    4.489130  \n",
       "50%          2.863389    282.500000    0.100240    4.710897  \n",
       "75%          3.449757    720.750000    0.115331    4.926747  \n",
       "max          8.427500  18586.000000    0.257143    7.095000  "
      ]
     },
     "execution_count": 27,
     "metadata": {},
     "output_type": "execute_result"
    }
   ],
   "source": [
    "dma_path = f\"Resources/BR _ Revlimid - HCP - DMA.xlsx\"\n",
    "dma_df = pd.read_excel(dma_path)\n",
    "\n",
    "dma_df[\"DMA Region name\"].fillna(\"None\", inplace=True)\n",
    "dma_df.drop(columns=[\"Row Type\",\"Avg pos\"], inplace=True)\n",
    "dma_df.sort_values(\"Cost\", ascending=False)\n",
    "\n",
    "dma_df= dma_df.dropna(0, how=\"any\")\n",
    "\n",
    "#dma_df.sort_values(\"Cost/wt action\")\n",
    "dma_df.describe()"
   ]
  },
  {
   "cell_type": "code",
   "execution_count": 12,
   "metadata": {},
   "outputs": [],
   "source": [
    "#formatting numbers\n",
    "#dma_df[\"Cost\"] = dma_df[\"Cost\"].map('${:,.2f}'.format)\n",
    "#dma_df[\"Cost/wt action\"] = dma_df[\"Cost/wt action\"].map('${:,.2f}'.format)\n",
    "#dma_df[\"Avg CPC\"] = dma_df[\"Avg CPC\"].map('${:,.2f}'.format)\n",
    "#dma_df[\"CTR\"] = dma_df[\"CTR\"].map('{:,.2%}'.format)"
   ]
  },
  {
   "cell_type": "code",
   "execution_count": 28,
   "metadata": {
    "scrolled": true
   },
   "outputs": [
    {
     "name": "stdout",
     "output_type": "stream",
     "text": [
      "Cost per Weighted Total Action in DMA regions: $3.11\n",
      "Mean of number of clicks in DMA regions: 85.53\n"
     ]
    }
   ],
   "source": [
    "# get the means\n",
    "dma_CWTA_mean = dma_df[\"Cost/wt action\"].mean()\n",
    "print(\"Cost per Weighted Total Action in DMA regions: $\"+str(round(dma_CWTA_mean, 2)))\n",
    "\n",
    "dma_click_mean = dma_df[\"Clicks\"].mean()\n",
    "print(\"Mean of number of clicks in DMA regions: \"+ str(round(dma_click_mean, 2) ))\n",
    "\n"
   ]
  },
  {
   "cell_type": "code",
   "execution_count": 39,
   "metadata": {},
   "outputs": [
    {
     "name": "stdout",
     "output_type": "stream",
     "text": [
      "Power_divergenceResult(statistic=77.09984680690206, pvalue=1.0)\n",
      "If PValue is bigger than 0.05, that means the difference of CWTA between cities are pure chance\n"
     ]
    }
   ],
   "source": [
    "#Chi square test, to see if the cost/weighted average is truly different than one another\n",
    "\n",
    "print(st.chisquare(dma_df[\"Cost/wt action\"]))\n",
    "#np.warnings.filterwarnings('ignore')\n",
    "\n",
    "print(\"If PValue is bigger than 0.05, that means the difference of CWTA between cities are pure chance\")"
   ]
  },
  {
   "cell_type": "code",
   "execution_count": null,
   "metadata": {},
   "outputs": [],
   "source": []
  },
  {
   "cell_type": "code",
   "execution_count": null,
   "metadata": {},
   "outputs": [],
   "source": []
  }
 ],
 "metadata": {
  "kernelspec": {
   "display_name": "Python 3",
   "language": "python",
   "name": "python3"
  },
  "language_info": {
   "codemirror_mode": {
    "name": "ipython",
    "version": 3
   },
   "file_extension": ".py",
   "mimetype": "text/x-python",
   "name": "python",
   "nbconvert_exporter": "python",
   "pygments_lexer": "ipython3",
   "version": "3.7.6"
  }
 },
 "nbformat": 4,
 "nbformat_minor": 4
}
